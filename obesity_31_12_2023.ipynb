{
 "cells": [
  {
   "cell_type": "code",
   "execution_count": 26,
   "metadata": {},
   "outputs": [
    {
     "data": {
      "text/plain": [
       "DataTransformerRegistry.enable('default')"
      ]
     },
     "execution_count": 26,
     "metadata": {},
     "output_type": "execute_result"
    }
   ],
   "source": [
    "import pandas as pd\n",
    "import altair as alt\n",
    "import numpy as np\n",
    "from tqdm import tqdm\n",
    "import sqlite3\n",
    "\n",
    "import re\n",
    "pd.options.display.max_columns = 10\n",
    "pd.options.display.max_rows = 50\n",
    "pd.set_option('display.max_colwidth', None)\n",
    "alt.data_transformers.disable_max_rows()"
   ]
  },
  {
   "cell_type": "markdown",
   "metadata": {},
   "source": [
    "### Load data"
   ]
  },
  {
   "cell_type": "code",
   "execution_count": 37,
   "metadata": {},
   "outputs": [
    {
     "data": {
      "text/plain": [
       "array([2014])"
      ]
     },
     "execution_count": 37,
     "metadata": {},
     "output_type": "execute_result"
    }
   ],
   "source": [
    "with sqlite3.connect(\"../neuromancer/wintermute.db\") as conn:\n",
    "    df = pd.read_sql_query(\"SELECT * from obesity_hospitals\", conn)\n",
    "df.year.unique()"
   ]
  },
  {
   "cell_type": "code",
   "execution_count": 21,
   "metadata": {},
   "outputs": [
    {
     "data": {
      "text/html": [
       "<div>\n",
       "<style scoped>\n",
       "    .dataframe tbody tr th:only-of-type {\n",
       "        vertical-align: middle;\n",
       "    }\n",
       "\n",
       "    .dataframe tbody tr th {\n",
       "        vertical-align: top;\n",
       "    }\n",
       "\n",
       "    .dataframe thead th {\n",
       "        text-align: right;\n",
       "    }\n",
       "</style>\n",
       "<table border=\"1\" class=\"dataframe\">\n",
       "  <thead>\n",
       "    <tr style=\"text-align: right;\">\n",
       "      <th></th>\n",
       "      <th>Unnamed: 0</th>\n",
       "      <th>region</th>\n",
       "      <th>admissions_total</th>\n",
       "      <th>admissions_count_men</th>\n",
       "      <th>admissions_count_women</th>\n",
       "      <th>adm_per_100_000_all</th>\n",
       "      <th>adm_per_male</th>\n",
       "      <th>adm_per_female</th>\n",
       "      <th>year</th>\n",
       "    </tr>\n",
       "  </thead>\n",
       "  <tbody>\n",
       "    <tr>\n",
       "      <th>0</th>\n",
       "      <td>5</td>\n",
       "      <td>England</td>\n",
       "      <td>292404</td>\n",
       "      <td>99579</td>\n",
       "      <td>192795</td>\n",
       "      <td>550.592332</td>\n",
       "      <td>381.044590</td>\n",
       "      <td>714.743642</td>\n",
       "      <td>2014</td>\n",
       "    </tr>\n",
       "    <tr>\n",
       "      <th>1</th>\n",
       "      <td>7</td>\n",
       "      <td>North East</td>\n",
       "      <td>17409</td>\n",
       "      <td>6294</td>\n",
       "      <td>11115</td>\n",
       "      <td>670.494727</td>\n",
       "      <td>495.747473</td>\n",
       "      <td>837.702727</td>\n",
       "      <td>2014</td>\n",
       "    </tr>\n",
       "    <tr>\n",
       "      <th>2</th>\n",
       "      <td>8</td>\n",
       "      <td>North East</td>\n",
       "      <td>17409</td>\n",
       "      <td>6294</td>\n",
       "      <td>11115</td>\n",
       "      <td>670.494727</td>\n",
       "      <td>495.747473</td>\n",
       "      <td>837.702727</td>\n",
       "      <td>2014</td>\n",
       "    </tr>\n",
       "    <tr>\n",
       "      <th>3</th>\n",
       "      <td>9</td>\n",
       "      <td>County Durham</td>\n",
       "      <td>2240</td>\n",
       "      <td>850</td>\n",
       "      <td>1390</td>\n",
       "      <td>436.652281</td>\n",
       "      <td>338.418907</td>\n",
       "      <td>530.886925</td>\n",
       "      <td>2014</td>\n",
       "    </tr>\n",
       "    <tr>\n",
       "      <th>4</th>\n",
       "      <td>10</td>\n",
       "      <td>Darlington</td>\n",
       "      <td>283</td>\n",
       "      <td>99</td>\n",
       "      <td>184</td>\n",
       "      <td>268.033035</td>\n",
       "      <td>192.382433</td>\n",
       "      <td>339.960092</td>\n",
       "      <td>2014</td>\n",
       "    </tr>\n",
       "    <tr>\n",
       "      <th>...</th>\n",
       "      <td>...</td>\n",
       "      <td>...</td>\n",
       "      <td>...</td>\n",
       "      <td>...</td>\n",
       "      <td>...</td>\n",
       "      <td>...</td>\n",
       "      <td>...</td>\n",
       "      <td>...</td>\n",
       "      <td>...</td>\n",
       "    </tr>\n",
       "    <tr>\n",
       "      <th>166</th>\n",
       "      <td>181</td>\n",
       "      <td>Somerset</td>\n",
       "      <td>3565</td>\n",
       "      <td>905</td>\n",
       "      <td>2660</td>\n",
       "      <td>670.640975</td>\n",
       "      <td>348.965443</td>\n",
       "      <td>977.068281</td>\n",
       "      <td>2014</td>\n",
       "    </tr>\n",
       "    <tr>\n",
       "      <th>167</th>\n",
       "      <td>182</td>\n",
       "      <td>South Gloucestershire</td>\n",
       "      <td>1396</td>\n",
       "      <td>530</td>\n",
       "      <td>866</td>\n",
       "      <td>529.958203</td>\n",
       "      <td>405.511901</td>\n",
       "      <td>652.511340</td>\n",
       "      <td>2014</td>\n",
       "    </tr>\n",
       "    <tr>\n",
       "      <th>168</th>\n",
       "      <td>183</td>\n",
       "      <td>Swindon</td>\n",
       "      <td>834</td>\n",
       "      <td>333</td>\n",
       "      <td>501</td>\n",
       "      <td>388.082065</td>\n",
       "      <td>309.586010</td>\n",
       "      <td>466.741196</td>\n",
       "      <td>2014</td>\n",
       "    </tr>\n",
       "    <tr>\n",
       "      <th>169</th>\n",
       "      <td>184</td>\n",
       "      <td>Torbay</td>\n",
       "      <td>1243</td>\n",
       "      <td>478</td>\n",
       "      <td>765</td>\n",
       "      <td>947.459087</td>\n",
       "      <td>756.257317</td>\n",
       "      <td>1125.215115</td>\n",
       "      <td>2014</td>\n",
       "    </tr>\n",
       "    <tr>\n",
       "      <th>170</th>\n",
       "      <td>185</td>\n",
       "      <td>Wiltshire</td>\n",
       "      <td>2730</td>\n",
       "      <td>911</td>\n",
       "      <td>1819</td>\n",
       "      <td>575.562016</td>\n",
       "      <td>388.875846</td>\n",
       "      <td>757.746174</td>\n",
       "      <td>2014</td>\n",
       "    </tr>\n",
       "  </tbody>\n",
       "</table>\n",
       "<p>171 rows × 9 columns</p>\n",
       "</div>"
      ],
      "text/plain": [
       "     Unnamed: 0                 region  admissions_total  \\\n",
       "0             5                England            292404   \n",
       "1             7             North East             17409   \n",
       "2             8             North East             17409   \n",
       "3             9          County Durham              2240   \n",
       "4            10             Darlington               283   \n",
       "..          ...                    ...               ...   \n",
       "166         181               Somerset              3565   \n",
       "167         182  South Gloucestershire              1396   \n",
       "168         183                Swindon               834   \n",
       "169         184                 Torbay              1243   \n",
       "170         185              Wiltshire              2730   \n",
       "\n",
       "     admissions_count_men  admissions_count_women  adm_per_100_000_all  \\\n",
       "0                   99579                  192795           550.592332   \n",
       "1                    6294                   11115           670.494727   \n",
       "2                    6294                   11115           670.494727   \n",
       "3                     850                    1390           436.652281   \n",
       "4                      99                     184           268.033035   \n",
       "..                    ...                     ...                  ...   \n",
       "166                   905                    2660           670.640975   \n",
       "167                   530                     866           529.958203   \n",
       "168                   333                     501           388.082065   \n",
       "169                   478                     765           947.459087   \n",
       "170                   911                    1819           575.562016   \n",
       "\n",
       "     adm_per_male  adm_per_female  year  \n",
       "0      381.044590      714.743642  2014  \n",
       "1      495.747473      837.702727  2014  \n",
       "2      495.747473      837.702727  2014  \n",
       "3      338.418907      530.886925  2014  \n",
       "4      192.382433      339.960092  2014  \n",
       "..            ...             ...   ...  \n",
       "166    348.965443      977.068281  2014  \n",
       "167    405.511901      652.511340  2014  \n",
       "168    309.586010      466.741196  2014  \n",
       "169    756.257317     1125.215115  2014  \n",
       "170    388.875846      757.746174  2014  \n",
       "\n",
       "[171 rows x 9 columns]"
      ]
     },
     "execution_count": 21,
     "metadata": {},
     "output_type": "execute_result"
    }
   ],
   "source": [
    "df = pd.read_csv(\"obesity.csv\")\n",
    "df"
   ]
  },
  {
   "cell_type": "code",
   "execution_count": 13,
   "metadata": {},
   "outputs": [
    {
     "data": {
      "text/plain": [
       "Major region   Year  variable                                \n",
       "East Midlands  2014  Admissions count: men                        5974.000000\n",
       "                     Admissions count: women                     13094.000000\n",
       "                     Admissions per 100,000 population            4022.244957\n",
       "                     Admissions per 100,000 population: men       2387.910550\n",
       "                     Admissions per 100,000 population: women     5616.525668\n",
       "                                                                     ...     \n",
       "West Sussex    2019  Admissions count: women                       285.000000\n",
       "                     Admissions per 100,000 population             313.000000\n",
       "                     Admissions per 100,000 population: men        272.000000\n",
       "                     Admissions per 100,000 population: women      353.000000\n",
       "                     Total admissions                              490.000000\n",
       "Name: quantity, Length: 318, dtype: float64"
      ]
     },
     "execution_count": 13,
     "metadata": {},
     "output_type": "execute_result"
    }
   ],
   "source": [
    "df.groupby([\"Major region\", \"Year\",\"variable\"])['quantity'].sum()"
   ]
  },
  {
   "cell_type": "code",
   "execution_count": 6,
   "metadata": {},
   "outputs": [
    {
     "name": "stdout",
     "output_type": "stream",
     "text": [
      "<class 'pandas.core.frame.DataFrame'>\n",
      "RangeIndex: 5490 entries, 0 to 5489\n",
      "Data columns (total 6 columns):\n",
      " #   Column        Non-Null Count  Dtype  \n",
      "---  ------        --------------  -----  \n",
      " 0   Unnamed: 0    5490 non-null   int64  \n",
      " 1   Region        5490 non-null   object \n",
      " 2   Major region  5490 non-null   object \n",
      " 3   Year          5490 non-null   int64  \n",
      " 4   variable      5490 non-null   object \n",
      " 5   quantity      5490 non-null   float64\n",
      "dtypes: float64(1), int64(2), object(3)\n",
      "memory usage: 257.5+ KB\n"
     ]
    }
   ],
   "source": [
    "df.info()"
   ]
  },
  {
   "cell_type": "code",
   "execution_count": 7,
   "metadata": {},
   "outputs": [
    {
     "data": {
      "text/plain": [
       "(5490, 6)"
      ]
     },
     "execution_count": 7,
     "metadata": {},
     "output_type": "execute_result"
    }
   ],
   "source": [
    "df.shape"
   ]
  },
  {
   "cell_type": "code",
   "execution_count": 8,
   "metadata": {},
   "outputs": [
    {
     "data": {
      "text/html": [
       "<div>\n",
       "<style scoped>\n",
       "    .dataframe tbody tr th:only-of-type {\n",
       "        vertical-align: middle;\n",
       "    }\n",
       "\n",
       "    .dataframe tbody tr th {\n",
       "        vertical-align: top;\n",
       "    }\n",
       "\n",
       "    .dataframe thead th {\n",
       "        text-align: right;\n",
       "    }\n",
       "</style>\n",
       "<table border=\"1\" class=\"dataframe\">\n",
       "  <thead>\n",
       "    <tr style=\"text-align: right;\">\n",
       "      <th></th>\n",
       "      <th>Unnamed: 0</th>\n",
       "      <th>Region</th>\n",
       "      <th>Major region</th>\n",
       "      <th>Year</th>\n",
       "      <th>variable</th>\n",
       "      <th>quantity</th>\n",
       "    </tr>\n",
       "  </thead>\n",
       "  <tbody>\n",
       "  </tbody>\n",
       "</table>\n",
       "</div>"
      ],
      "text/plain": [
       "Empty DataFrame\n",
       "Columns: [Unnamed: 0, Region, Major region, Year, variable, quantity]\n",
       "Index: []"
      ]
     },
     "execution_count": 8,
     "metadata": {},
     "output_type": "execute_result"
    }
   ],
   "source": []
  },
  {
   "cell_type": "code",
   "execution_count": null,
   "metadata": {},
   "outputs": [],
   "source": []
  }
 ],
 "metadata": {
  "kernelspec": {
   "display_name": "base",
   "language": "python",
   "name": "python3"
  },
  "language_info": {
   "codemirror_mode": {
    "name": "ipython",
    "version": 3
   },
   "file_extension": ".py",
   "mimetype": "text/x-python",
   "name": "python",
   "nbconvert_exporter": "python",
   "pygments_lexer": "ipython3",
   "version": "3.11.5"
  }
 },
 "nbformat": 4,
 "nbformat_minor": 2
}
