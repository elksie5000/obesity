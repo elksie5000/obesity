{
 "cells": [
  {
   "cell_type": "code",
   "execution_count": 1,
   "metadata": {},
   "outputs": [],
   "source": [
    "#https://digital.nhs.uk/data-and-information/publications/statistical/health-survey-for-england/2021/health-survey-for-england-2021-data-tables\n",
    "\n",
    "from dataclasses import dataclass"
   ]
  },
  {
   "cell_type": "code",
   "execution_count": 2,
   "metadata": {},
   "outputs": [
    {
     "data": {
      "text/plain": [
       "DataTransformerRegistry.enable('default')"
      ]
     },
     "execution_count": 2,
     "metadata": {},
     "output_type": "execute_result"
    }
   ],
   "source": [
    "import pandas as pd\n",
    "import altair as alt\n",
    "import numpy as np\n",
    "from tqdm import tqdm\n",
    "\n",
    "import re\n",
    "pd.options.display.max_columns = 10\n",
    "pd.options.display.max_rows = 50\n",
    "pd.set_option('display.max_colwidth', None)\n",
    "alt.data_transformers.disable_max_rows()"
   ]
  },
  {
   "cell_type": "markdown",
   "metadata": {},
   "source": [
    "Load the data into dataframes"
   ]
  },
  {
   "cell_type": "code",
   "execution_count": 3,
   "metadata": {},
   "outputs": [
    {
     "name": "stdout",
     "output_type": "stream",
     "text": [
      "11\n"
     ]
    }
   ],
   "source": [
    "          \n",
    "tables = [{\"filename\": \"obes-phys-acti-diet-eng-2014-tab.xls\", \"sheet_name\":\"7.6\",  \"rows_top\": 3, \"rows_bottom\": 185, \"columns_left\": 2, \"columns_right\" :10},\n",
    "          {\"filename\": \"obes-phys-acti-diet-eng-2015-tab.xlsx\", \"sheet_name\":\"7.7\", \"rows_top\": None, \"rows_bottom\": None, \"columns_left\": 3, \"columns_right\" :11},\n",
    "          {\"filename\": \"obes-phys-acti-diet-eng-2016-tab.xlsx\", \"sheet_name\":\"Table 7\", \"rows_top\": None, \"rows_bottom\": None, \"columns_left\": 3, \"columns_right\" :11},\n",
    "           {\"filename\": \"obes-phys-acti-diet-eng-2017-tab.xlsx\", \"sheet_name\":\"Table 7\", \"rows_top\": None, \"rows_bottom\": None, \"columns_left\": 3, \"columns_right\" :11},\n",
    "           {\"filename\": \"obes-phys-acti-diet-eng-2018-tab.xlsx\", \"sheet_name\":\"Table 7\", \"rows_top\": None, \"rows_bottom\": None, \"columns_left\": 2, \"columns_right\" :11},\n",
    "           {\"filename\": \"Obes-phys-acti-diet-eng-tab-2019.xlsx\", \"sheet_name\":\"Table 2.4\", \"rows_top\": None, \"rows_bottom\": None, \"columns_left\": 2, \"columns_right\" :11},\n",
    "           ]\n",
    "df_columns = [\"region\", \"admissions_total\",\n",
    "                          \"admissions_count_men\", \"admissions_count_women\",\n",
    "                          \"adm_per_100_000_all\", \"adm_per_male\", \"adm_per_female\", \"year\"]\n",
    "#\"South Central\"\n",
    "region_list = [\"East Midlands\", \"East of England\", \"West Midlands\",\n",
    "               \"North East\", \"North West\", \"North Yorkshire\",\"London\", \"South East\", \"South West\", \"West Sussex\", \"Yorkshire and the Humber\"]\n",
    "print(len(region_list))"
   ]
  },
  {
   "cell_type": "code",
   "execution_count": null,
   "metadata": {},
   "outputs": [],
   "source": []
  },
  {
   "cell_type": "code",
   "execution_count": 4,
   "metadata": {},
   "outputs": [
    {
     "data": {
      "text/html": [
       "<div>\n",
       "<style scoped>\n",
       "    .dataframe tbody tr th:only-of-type {\n",
       "        vertical-align: middle;\n",
       "    }\n",
       "\n",
       "    .dataframe tbody tr th {\n",
       "        vertical-align: top;\n",
       "    }\n",
       "\n",
       "    .dataframe thead th {\n",
       "        text-align: right;\n",
       "    }\n",
       "</style>\n",
       "<table border=\"1\" class=\"dataframe\">\n",
       "  <thead>\n",
       "    <tr style=\"text-align: right;\">\n",
       "      <th></th>\n",
       "      <th>region</th>\n",
       "      <th>admissions_total</th>\n",
       "      <th>admissions_count_men</th>\n",
       "      <th>admissions_count_women</th>\n",
       "      <th>adm_per_100_000_all</th>\n",
       "      <th>adm_per_male</th>\n",
       "      <th>adm_per_female</th>\n",
       "      <th>year</th>\n",
       "    </tr>\n",
       "  </thead>\n",
       "  <tbody>\n",
       "    <tr>\n",
       "      <th>5</th>\n",
       "      <td>England</td>\n",
       "      <td>292404</td>\n",
       "      <td>99579</td>\n",
       "      <td>192795</td>\n",
       "      <td>550.592332</td>\n",
       "      <td>381.04459</td>\n",
       "      <td>714.743642</td>\n",
       "      <td>2014</td>\n",
       "    </tr>\n",
       "    <tr>\n",
       "      <th>7</th>\n",
       "      <td>North East</td>\n",
       "      <td>17409</td>\n",
       "      <td>6294</td>\n",
       "      <td>11115</td>\n",
       "      <td>670.494727</td>\n",
       "      <td>495.747473</td>\n",
       "      <td>837.702727</td>\n",
       "      <td>2014</td>\n",
       "    </tr>\n",
       "    <tr>\n",
       "      <th>8</th>\n",
       "      <td>North East</td>\n",
       "      <td>17409</td>\n",
       "      <td>6294</td>\n",
       "      <td>11115</td>\n",
       "      <td>670.494727</td>\n",
       "      <td>495.747473</td>\n",
       "      <td>837.702727</td>\n",
       "      <td>2014</td>\n",
       "    </tr>\n",
       "    <tr>\n",
       "      <th>9</th>\n",
       "      <td>County Durham</td>\n",
       "      <td>2240</td>\n",
       "      <td>850</td>\n",
       "      <td>1390</td>\n",
       "      <td>436.652281</td>\n",
       "      <td>338.418907</td>\n",
       "      <td>530.886925</td>\n",
       "      <td>2014</td>\n",
       "    </tr>\n",
       "    <tr>\n",
       "      <th>10</th>\n",
       "      <td>Darlington</td>\n",
       "      <td>283</td>\n",
       "      <td>99</td>\n",
       "      <td>184</td>\n",
       "      <td>268.033035</td>\n",
       "      <td>192.382433</td>\n",
       "      <td>339.960092</td>\n",
       "      <td>2014</td>\n",
       "    </tr>\n",
       "    <tr>\n",
       "      <th>...</th>\n",
       "      <td>...</td>\n",
       "      <td>...</td>\n",
       "      <td>...</td>\n",
       "      <td>...</td>\n",
       "      <td>...</td>\n",
       "      <td>...</td>\n",
       "      <td>...</td>\n",
       "      <td>...</td>\n",
       "    </tr>\n",
       "    <tr>\n",
       "      <th>181</th>\n",
       "      <td>Somerset</td>\n",
       "      <td>3565</td>\n",
       "      <td>905</td>\n",
       "      <td>2660</td>\n",
       "      <td>670.640975</td>\n",
       "      <td>348.965443</td>\n",
       "      <td>977.068281</td>\n",
       "      <td>2014</td>\n",
       "    </tr>\n",
       "    <tr>\n",
       "      <th>182</th>\n",
       "      <td>South Gloucestershire</td>\n",
       "      <td>1396</td>\n",
       "      <td>530</td>\n",
       "      <td>866</td>\n",
       "      <td>529.958203</td>\n",
       "      <td>405.511901</td>\n",
       "      <td>652.51134</td>\n",
       "      <td>2014</td>\n",
       "    </tr>\n",
       "    <tr>\n",
       "      <th>183</th>\n",
       "      <td>Swindon</td>\n",
       "      <td>834</td>\n",
       "      <td>333</td>\n",
       "      <td>501</td>\n",
       "      <td>388.082065</td>\n",
       "      <td>309.58601</td>\n",
       "      <td>466.741196</td>\n",
       "      <td>2014</td>\n",
       "    </tr>\n",
       "    <tr>\n",
       "      <th>184</th>\n",
       "      <td>Torbay</td>\n",
       "      <td>1243</td>\n",
       "      <td>478</td>\n",
       "      <td>765</td>\n",
       "      <td>947.459087</td>\n",
       "      <td>756.257317</td>\n",
       "      <td>1125.215115</td>\n",
       "      <td>2014</td>\n",
       "    </tr>\n",
       "    <tr>\n",
       "      <th>185</th>\n",
       "      <td>Wiltshire</td>\n",
       "      <td>2730</td>\n",
       "      <td>911</td>\n",
       "      <td>1819</td>\n",
       "      <td>575.562016</td>\n",
       "      <td>388.875846</td>\n",
       "      <td>757.746174</td>\n",
       "      <td>2014</td>\n",
       "    </tr>\n",
       "  </tbody>\n",
       "</table>\n",
       "<p>171 rows × 8 columns</p>\n",
       "</div>"
      ],
      "text/plain": [
       "                    region admissions_total admissions_count_men  \\\n",
       "5                  England           292404                99579   \n",
       "7               North East            17409                 6294   \n",
       "8               North East            17409                 6294   \n",
       "9            County Durham             2240                  850   \n",
       "10              Darlington              283                   99   \n",
       "..                     ...              ...                  ...   \n",
       "181               Somerset             3565                  905   \n",
       "182  South Gloucestershire             1396                  530   \n",
       "183                Swindon              834                  333   \n",
       "184                 Torbay             1243                  478   \n",
       "185              Wiltshire             2730                  911   \n",
       "\n",
       "    admissions_count_women adm_per_100_000_all adm_per_male adm_per_female  \\\n",
       "5                   192795          550.592332    381.04459     714.743642   \n",
       "7                    11115          670.494727   495.747473     837.702727   \n",
       "8                    11115          670.494727   495.747473     837.702727   \n",
       "9                     1390          436.652281   338.418907     530.886925   \n",
       "10                     184          268.033035   192.382433     339.960092   \n",
       "..                     ...                 ...          ...            ...   \n",
       "181                   2660          670.640975   348.965443     977.068281   \n",
       "182                    866          529.958203   405.511901      652.51134   \n",
       "183                    501          388.082065    309.58601     466.741196   \n",
       "184                    765          947.459087   756.257317    1125.215115   \n",
       "185                   1819          575.562016   388.875846     757.746174   \n",
       "\n",
       "     year  \n",
       "5    2014  \n",
       "7    2014  \n",
       "8    2014  \n",
       "9    2014  \n",
       "10   2014  \n",
       "..    ...  \n",
       "181  2014  \n",
       "182  2014  \n",
       "183  2014  \n",
       "184  2014  \n",
       "185  2014  \n",
       "\n",
       "[171 rows x 8 columns]"
      ]
     },
     "execution_count": 4,
     "metadata": {},
     "output_type": "execute_result"
    }
   ],
   "source": [
    "@dataclass\n",
    "class Obesity:\n",
    "    def collect_data(self):\n",
    "        df_list = []\n",
    "        for t in tables:\n",
    "            filename = t['filename']\n",
    "            year = re.search(r'\\d{4}', filename).group()\n",
    "            df = pd.read_excel(filename, sheet_name=t['sheet_name']).dropna(axis=0, how=\"all\")\n",
    "            df = df.dropna(axis=1, how=\"all\")\n",
    "            df['year'] = year\n",
    "            \n",
    "            df = df.iloc[t['rows_top']: t['rows_bottom'], t['columns_left']: t['columns_right']]\n",
    "            df = df.dropna(axis=0)\n",
    "            df.columns = df_columns\n",
    "            df['region'] = df['region'].apply(lambda x: x.replace(\" PCT\", \"\"))            \n",
    "            df['region'] = df['region'].apply(lambda x: x.title())\n",
    "            df['region'] = df['region'].str.replace(r'\\d+', '', regex=True)\n",
    "            df['region'] = df['region'].apply(lambda x: x.replace(\" Borough Council (Unitary)\", \"\")) \n",
    "            df['region'] = df['region'].apply(lambda x: x.replace(\" Metropolitan Borough Council\", \"\")) \n",
    "            df['region'] = df['region'].apply(lambda x: x.replace(\"  County Council\", \"\")) \n",
    "            df['region'] = df['region'].apply(lambda x: x.replace(\"  Council (Unitary)\", \"\")) \n",
    "            df['region'] = df['region'].apply(lambda x: x.replace(\"  City Council\", \"\")) \n",
    "            df['region'] = df['region'].apply(lambda x: x.replace(\"  Borough Council\", \"\")) \n",
    "            df['region'] = df['region'].apply(lambda x: x.replace(\" Council\", \"\")) \n",
    "            df['region'] = df['region'].apply(lambda x: x.replace(\" (Unitary)\", \"\")) \n",
    "            df['region'] = df['region'].apply(lambda x: x.replace(\" Borough\", \"\")) \n",
    "            df['region'] = df['region'].apply(lambda x: x.replace(\" Care Trust\", \"\")) \n",
    "            df['region'] = df['region'].apply(lambda x: x.replace(\" Plus\", \"\")) \n",
    "            df['region'] = df['region'].apply(lambda x: x.replace(\" County\", \"\")) \n",
    "            df['region'] = df['region'].apply(lambda x: x.replace(\" City\", \"\")) \n",
    "            df['region'] = df['region'].apply(lambda x: x.replace(\" Metropolitan District\", \"\"))\n",
    "            df['region'] = df['region'].apply(lambda x: x.replace(\", Of\", \"\"))\n",
    "            df['region'] = df['region'].apply(lambda x: x.replace(\" Teaching\", \"\")) \n",
    "            df['region'] = df['region'].apply(lambda x: x.replace(\"Kensington & Chelsea\", \"Kensington And Chelsea\"))\n",
    "            df['region'] = df['region'].apply(lambda x: x.replace(\"Leicestershire & Rutland\", \"Leicestershire\"))\n",
    "            df['region'] = df['region'].apply(lambda x: x.replace(\"Newcastle upon Tyne\", \"Newcastle-upon-Tyne\"))\n",
    "            df['region'] = df['region'].apply(lambda x: x.replace(\"Stoke on Trent\", \"Stoke-on-Trent\"))    \n",
    "            df['region'] = df['region'].apply(lambda x: x.replace(\"Redcar &Cleveland\", \"Redcar and Cleveland\"))\n",
    "            df['region'] = df['region'].apply(lambda x: x.replace(\"Richmond & Twickenham\", \"Richmond Upon Thames\"))\n",
    "            df['region'] = df['region'].apply(lambda x: x.replace(\"Tameside & Glossop\", \"Tameside\"))\n",
    "            df['region'] = df['region'].apply(lambda x: x.replace(\"Telford & Wrekin\", \"Telford And Wrekin\"))\n",
    "            df['region'] = df['region'].apply(lambda x: x.replace(\"Sutton & Merton\", \"Sutton\")) \n",
    "            df['region'] = df['region'].apply(lambda x: x.replace(\"Barking & Dagenham\", \"Barking And Dagenham\"))     \n",
    "            df['region'] = df['region'].apply(lambda x: x.replace(\"Bath & North East Somerset\", \"Bath And North East Somerset\"))   \n",
    "            df['region'] = df['region'].apply(lambda x: x.replace(\"Brighton & Hove\", \"Brighton And Hove\"))     \n",
    "            df['region'] = df['region'].apply(lambda x: x.replace(\"London Of \", \"\"))\n",
    "            df['region'] = df['region'].apply(lambda x: x.replace(\"Hammersmith & Fulham\", \"Hammersmith And Fulham\")) \n",
    "            df['region'] = df['region'].apply(lambda x: x.replace(\"Hammersmith & Fulham\", \"Hammersmith And Fulham\")) \n",
    "            df['region'] = df['region'].apply(lambda x: x.replace(\"Redcar & Cleveland\", \"Redcar And Cleveland\")) \n",
    "            df['region'] = df['region'].apply(lambda x: x.replace(\"Newcastle Upon Tyne\", \"Newcastle-Upon-Tyne\")) \n",
    "            df['region'] = df['region'].apply(lambda x: x.replace(\"Stoke On Trent\", \"Stoke-On-Trent\")) \n",
    "            df['region'] = df['region'].apply(lambda  x: x.replace(\"The Of The Isles of Scilly\", \"Isles Of Scilly\"))  \n",
    "            df['region'] = df['region'].apply(lambda x: x.strip())\n",
    "            \n",
    "            df_list.append(df)\n",
    "        return df_list\n",
    " \n",
    "    \n",
    "    # Example usage:\n",
    "instance = Obesity()\n",
    "result = instance.collect_data()\n",
    "\n",
    "result[0]"
   ]
  },
  {
   "cell_type": "code",
   "execution_count": 5,
   "metadata": {},
   "outputs": [],
   "source": [
    "result[0].to_csv(\"obesity.csv\")\n",
    "\n",
    "\n",
    "#for r in result:\n",
    "#    print(r.shape)\n",
    "\n",
    "    \n",
    "    \n",
    "\n",
    "\n",
    "    \n",
    "\n"
   ]
  },
  {
   "cell_type": "code",
   "execution_count": 6,
   "metadata": {},
   "outputs": [
    {
     "data": {
      "text/html": [
       "<div>\n",
       "<style scoped>\n",
       "    .dataframe tbody tr th:only-of-type {\n",
       "        vertical-align: middle;\n",
       "    }\n",
       "\n",
       "    .dataframe tbody tr th {\n",
       "        vertical-align: top;\n",
       "    }\n",
       "\n",
       "    .dataframe thead th {\n",
       "        text-align: right;\n",
       "    }\n",
       "</style>\n",
       "<table border=\"1\" class=\"dataframe\">\n",
       "  <thead>\n",
       "    <tr style=\"text-align: right;\">\n",
       "      <th></th>\n",
       "      <th>region</th>\n",
       "      <th>admissions_total</th>\n",
       "      <th>admissions_count_men</th>\n",
       "      <th>admissions_count_women</th>\n",
       "      <th>adm_per_100_000_all</th>\n",
       "      <th>adm_per_male</th>\n",
       "      <th>adm_per_female</th>\n",
       "      <th>year</th>\n",
       "    </tr>\n",
       "  </thead>\n",
       "  <tbody>\n",
       "    <tr>\n",
       "      <th>5</th>\n",
       "      <td>England</td>\n",
       "      <td>292404</td>\n",
       "      <td>99579</td>\n",
       "      <td>192795</td>\n",
       "      <td>550.592332</td>\n",
       "      <td>381.04459</td>\n",
       "      <td>714.743642</td>\n",
       "      <td>2014</td>\n",
       "    </tr>\n",
       "    <tr>\n",
       "      <th>7</th>\n",
       "      <td>North East</td>\n",
       "      <td>17409</td>\n",
       "      <td>6294</td>\n",
       "      <td>11115</td>\n",
       "      <td>670.494727</td>\n",
       "      <td>495.747473</td>\n",
       "      <td>837.702727</td>\n",
       "      <td>2014</td>\n",
       "    </tr>\n",
       "    <tr>\n",
       "      <th>8</th>\n",
       "      <td>North East</td>\n",
       "      <td>17409</td>\n",
       "      <td>6294</td>\n",
       "      <td>11115</td>\n",
       "      <td>670.494727</td>\n",
       "      <td>495.747473</td>\n",
       "      <td>837.702727</td>\n",
       "      <td>2014</td>\n",
       "    </tr>\n",
       "    <tr>\n",
       "      <th>9</th>\n",
       "      <td>County Durham</td>\n",
       "      <td>2240</td>\n",
       "      <td>850</td>\n",
       "      <td>1390</td>\n",
       "      <td>436.652281</td>\n",
       "      <td>338.418907</td>\n",
       "      <td>530.886925</td>\n",
       "      <td>2014</td>\n",
       "    </tr>\n",
       "    <tr>\n",
       "      <th>10</th>\n",
       "      <td>Darlington</td>\n",
       "      <td>283</td>\n",
       "      <td>99</td>\n",
       "      <td>184</td>\n",
       "      <td>268.033035</td>\n",
       "      <td>192.382433</td>\n",
       "      <td>339.960092</td>\n",
       "      <td>2014</td>\n",
       "    </tr>\n",
       "    <tr>\n",
       "      <th>...</th>\n",
       "      <td>...</td>\n",
       "      <td>...</td>\n",
       "      <td>...</td>\n",
       "      <td>...</td>\n",
       "      <td>...</td>\n",
       "      <td>...</td>\n",
       "      <td>...</td>\n",
       "      <td>...</td>\n",
       "    </tr>\n",
       "    <tr>\n",
       "      <th>181</th>\n",
       "      <td>Somerset</td>\n",
       "      <td>3565</td>\n",
       "      <td>905</td>\n",
       "      <td>2660</td>\n",
       "      <td>670.640975</td>\n",
       "      <td>348.965443</td>\n",
       "      <td>977.068281</td>\n",
       "      <td>2014</td>\n",
       "    </tr>\n",
       "    <tr>\n",
       "      <th>182</th>\n",
       "      <td>South Gloucestershire</td>\n",
       "      <td>1396</td>\n",
       "      <td>530</td>\n",
       "      <td>866</td>\n",
       "      <td>529.958203</td>\n",
       "      <td>405.511901</td>\n",
       "      <td>652.51134</td>\n",
       "      <td>2014</td>\n",
       "    </tr>\n",
       "    <tr>\n",
       "      <th>183</th>\n",
       "      <td>Swindon</td>\n",
       "      <td>834</td>\n",
       "      <td>333</td>\n",
       "      <td>501</td>\n",
       "      <td>388.082065</td>\n",
       "      <td>309.58601</td>\n",
       "      <td>466.741196</td>\n",
       "      <td>2014</td>\n",
       "    </tr>\n",
       "    <tr>\n",
       "      <th>184</th>\n",
       "      <td>Torbay</td>\n",
       "      <td>1243</td>\n",
       "      <td>478</td>\n",
       "      <td>765</td>\n",
       "      <td>947.459087</td>\n",
       "      <td>756.257317</td>\n",
       "      <td>1125.215115</td>\n",
       "      <td>2014</td>\n",
       "    </tr>\n",
       "    <tr>\n",
       "      <th>185</th>\n",
       "      <td>Wiltshire</td>\n",
       "      <td>2730</td>\n",
       "      <td>911</td>\n",
       "      <td>1819</td>\n",
       "      <td>575.562016</td>\n",
       "      <td>388.875846</td>\n",
       "      <td>757.746174</td>\n",
       "      <td>2014</td>\n",
       "    </tr>\n",
       "  </tbody>\n",
       "</table>\n",
       "<p>171 rows × 8 columns</p>\n",
       "</div>"
      ],
      "text/plain": [
       "                    region admissions_total admissions_count_men  \\\n",
       "5                  England           292404                99579   \n",
       "7               North East            17409                 6294   \n",
       "8               North East            17409                 6294   \n",
       "9            County Durham             2240                  850   \n",
       "10              Darlington              283                   99   \n",
       "..                     ...              ...                  ...   \n",
       "181               Somerset             3565                  905   \n",
       "182  South Gloucestershire             1396                  530   \n",
       "183                Swindon              834                  333   \n",
       "184                 Torbay             1243                  478   \n",
       "185              Wiltshire             2730                  911   \n",
       "\n",
       "    admissions_count_women adm_per_100_000_all adm_per_male adm_per_female  \\\n",
       "5                   192795          550.592332    381.04459     714.743642   \n",
       "7                    11115          670.494727   495.747473     837.702727   \n",
       "8                    11115          670.494727   495.747473     837.702727   \n",
       "9                     1390          436.652281   338.418907     530.886925   \n",
       "10                     184          268.033035   192.382433     339.960092   \n",
       "..                     ...                 ...          ...            ...   \n",
       "181                   2660          670.640975   348.965443     977.068281   \n",
       "182                    866          529.958203   405.511901      652.51134   \n",
       "183                    501          388.082065    309.58601     466.741196   \n",
       "184                    765          947.459087   756.257317    1125.215115   \n",
       "185                   1819          575.562016   388.875846     757.746174   \n",
       "\n",
       "     year  \n",
       "5    2014  \n",
       "7    2014  \n",
       "8    2014  \n",
       "9    2014  \n",
       "10   2014  \n",
       "..    ...  \n",
       "181  2014  \n",
       "182  2014  \n",
       "183  2014  \n",
       "184  2014  \n",
       "185  2014  \n",
       "\n",
       "[171 rows x 8 columns]"
      ]
     },
     "execution_count": 6,
     "metadata": {},
     "output_type": "execute_result"
    }
   ],
   "source": [
    "result[0]"
   ]
  },
  {
   "cell_type": "code",
   "execution_count": 7,
   "metadata": {},
   "outputs": [
    {
     "name": "stdout",
     "output_type": "stream",
     "text": [
      "<class 'pandas.core.frame.DataFrame'>\n",
      "Int64Index: 983 entries, 5 to 181\n",
      "Data columns (total 8 columns):\n",
      " #   Column                  Non-Null Count  Dtype  \n",
      "---  ------                  --------------  -----  \n",
      " 0   region                  983 non-null    object \n",
      " 1   admissions_total        983 non-null    int64  \n",
      " 2   admissions_count_men    982 non-null    float64\n",
      " 3   admissions_count_women  982 non-null    float64\n",
      " 4   adm_per_100_000_all     981 non-null    float64\n",
      " 5   adm_per_male            980 non-null    float64\n",
      " 6   adm_per_female          980 non-null    float64\n",
      " 7   year                    983 non-null    int64  \n",
      "dtypes: float64(5), int64(2), object(1)\n",
      "memory usage: 69.1+ KB\n"
     ]
    }
   ],
   "source": [
    "df = pd.concat([result[0], result[1], result[2],\n",
    "                result[5],result[4], result[5]])\n",
    "\n",
    "\n",
    "df['admissions_total'] = df['admissions_total'].astype(int)\n",
    "df['admissions_count_men'] = pd.to_numeric(df['admissions_count_men'], errors=\n",
    "'coerce')\n",
    "df['admissions_count_women'] = pd.to_numeric(df['admissions_count_women'], errors=\n",
    "'coerce')\n",
    "df['adm_per_100_000_all'] = pd.to_numeric(df['adm_per_100_000_all'], errors=\n",
    "'coerce')\n",
    "df['adm_per_female'] = pd.to_numeric(df['adm_per_female'], errors=\n",
    "'coerce')\n",
    "df['adm_per_male'] = pd.to_numeric(df['adm_per_male'], errors=\n",
    "'coerce')\n",
    "df['year'] = pd.to_numeric(df['year'], errors=\n",
    "'coerce')\n",
    "df.info()"
   ]
  },
  {
   "cell_type": "code",
   "execution_count": 8,
   "metadata": {},
   "outputs": [],
   "source": [
    "def test_top(s):\n",
    "    \"\"\"\"Create the top tiers column which suggests if df is either major region or England. This will be used to create the subset of local authorities\"\"\"\n",
    "    \n",
    "    if s in region_list or s == \"England\":\n",
    "        return True\n",
    "    else:\n",
    "        return np.NaN\n",
    "df['top_tier'] = df['region'].apply(test_top)    \n"
   ]
  },
  {
   "cell_type": "code",
   "execution_count": 9,
   "metadata": {},
   "outputs": [
    {
     "data": {
      "text/plain": [
       "2068246.0"
      ]
     },
     "execution_count": 9,
     "metadata": {},
     "output_type": "execute_result"
    }
   ],
   "source": [
    "df[df['region']==\"England\"]['admissions_count_women'].sum()"
   ]
  },
  {
   "cell_type": "code",
   "execution_count": 10,
   "metadata": {},
   "outputs": [
    {
     "data": {
      "text/html": [
       "\n",
       "<style>\n",
       "  #altair-viz-ef3a43b21dba4742aa74dd022cdedae3.vega-embed {\n",
       "    width: 100%;\n",
       "    display: flex;\n",
       "  }\n",
       "\n",
       "  #altair-viz-ef3a43b21dba4742aa74dd022cdedae3.vega-embed details,\n",
       "  #altair-viz-ef3a43b21dba4742aa74dd022cdedae3.vega-embed details summary {\n",
       "    position: relative;\n",
       "  }\n",
       "</style>\n",
       "<div id=\"altair-viz-ef3a43b21dba4742aa74dd022cdedae3\"></div>\n",
       "<script type=\"text/javascript\">\n",
       "  var VEGA_DEBUG = (typeof VEGA_DEBUG == \"undefined\") ? {} : VEGA_DEBUG;\n",
       "  (function(spec, embedOpt){\n",
       "    let outputDiv = document.currentScript.previousElementSibling;\n",
       "    if (outputDiv.id !== \"altair-viz-ef3a43b21dba4742aa74dd022cdedae3\") {\n",
       "      outputDiv = document.getElementById(\"altair-viz-ef3a43b21dba4742aa74dd022cdedae3\");\n",
       "    }\n",
       "    const paths = {\n",
       "      \"vega\": \"https://cdn.jsdelivr.net/npm/vega@5?noext\",\n",
       "      \"vega-lib\": \"https://cdn.jsdelivr.net/npm/vega-lib?noext\",\n",
       "      \"vega-lite\": \"https://cdn.jsdelivr.net/npm/vega-lite@5.14.1?noext\",\n",
       "      \"vega-embed\": \"https://cdn.jsdelivr.net/npm/vega-embed@6?noext\",\n",
       "    };\n",
       "\n",
       "    function maybeLoadScript(lib, version) {\n",
       "      var key = `${lib.replace(\"-\", \"\")}_version`;\n",
       "      return (VEGA_DEBUG[key] == version) ?\n",
       "        Promise.resolve(paths[lib]) :\n",
       "        new Promise(function(resolve, reject) {\n",
       "          var s = document.createElement('script');\n",
       "          document.getElementsByTagName(\"head\")[0].appendChild(s);\n",
       "          s.async = true;\n",
       "          s.onload = () => {\n",
       "            VEGA_DEBUG[key] = version;\n",
       "            return resolve(paths[lib]);\n",
       "          };\n",
       "          s.onerror = () => reject(`Error loading script: ${paths[lib]}`);\n",
       "          s.src = paths[lib];\n",
       "        });\n",
       "    }\n",
       "\n",
       "    function showError(err) {\n",
       "      outputDiv.innerHTML = `<div class=\"error\" style=\"color:red;\">${err}</div>`;\n",
       "      throw err;\n",
       "    }\n",
       "\n",
       "    function displayChart(vegaEmbed) {\n",
       "      vegaEmbed(outputDiv, spec, embedOpt)\n",
       "        .catch(err => showError(`Javascript Error: ${err.message}<br>This usually means there's a typo in your chart specification. See the javascript console for the full traceback.`));\n",
       "    }\n",
       "\n",
       "    if(typeof define === \"function\" && define.amd) {\n",
       "      requirejs.config({paths});\n",
       "      require([\"vega-embed\"], displayChart, err => showError(`Error loading script: ${err.message}`));\n",
       "    } else {\n",
       "      maybeLoadScript(\"vega\", \"5\")\n",
       "        .then(() => maybeLoadScript(\"vega-lite\", \"5.14.1\"))\n",
       "        .then(() => maybeLoadScript(\"vega-embed\", \"6\"))\n",
       "        .catch(showError)\n",
       "        .then(() => displayChart(vegaEmbed));\n",
       "    }\n",
       "  })({\"config\": {\"view\": {\"continuousWidth\": 300, \"continuousHeight\": 300}}, \"data\": {\"name\": \"data-48cdbf9928110e64942b2d88c71b42df\"}, \"mark\": {\"type\": \"bar\"}, \"encoding\": {\"tooltip\": {\"field\": \"admissions_total\", \"format\": \",\", \"type\": \"quantitative\"}, \"x\": {\"field\": \"year\", \"title\": \"Year\", \"type\": \"ordinal\"}, \"y\": {\"field\": \"admissions_total\", \"title\": \"Admissions\", \"type\": \"quantitative\"}}, \"title\": \"Hospital admissions due to obesity per year in the UK\", \"width\": 100, \"$schema\": \"https://vega.github.io/schema/vega-lite/v5.14.1.json\", \"datasets\": {\"data-48cdbf9928110e64942b2d88c71b42df\": [{\"region\": \"England\", \"admissions_total\": 292404, \"admissions_count_men\": 99579.0, \"admissions_count_women\": 192795.0, \"adm_per_100_000_all\": 550.5923315174265, \"adm_per_male\": 381.04459001172535, \"adm_per_female\": 714.743641906818, \"year\": 2014, \"top_tier\": true}, {\"region\": \"England\", \"admissions_total\": 365577, \"admissions_count_men\": 123423.0, \"admissions_count_women\": 242118.0, \"adm_per_100_000_all\": 678.6808784502424, \"adm_per_male\": 465.15091654776563, \"adm_per_female\": 885.84569912726, \"year\": 2015, \"top_tier\": true}, {\"region\": \"England\", \"admissions_total\": 440288, \"admissions_count_men\": 149490.0, \"admissions_count_women\": 290747.0, \"adm_per_100_000_all\": 810.5953872164869, \"adm_per_male\": 558.3569477472918, \"adm_per_female\": 1055.5950527861062, \"year\": 2016, \"top_tier\": true}, {\"region\": \"England\", \"admissions_total\": 710562, \"admissions_count_men\": 243565.0, \"admissions_count_women\": 466978.0, \"adm_per_100_000_all\": 1322.8, \"adm_per_male\": 963.1, \"adm_per_female\": 1685.2, \"year\": 2019, \"top_tier\": true}, {\"region\": \"England\", \"admissions_total\": 616961, \"admissions_count_men\": 208290.0, \"admissions_count_women\": 408630.0, \"adm_per_100_000_all\": 1159.0, \"adm_per_male\": 833.0, \"adm_per_female\": 1486.0, \"year\": 2018, \"top_tier\": true}, {\"region\": \"England\", \"admissions_total\": 710562, \"admissions_count_men\": 243565.0, \"admissions_count_women\": 466978.0, \"adm_per_100_000_all\": 1322.8, \"adm_per_male\": 963.1, \"adm_per_female\": 1685.2, \"year\": 2019, \"top_tier\": true}]}}, {\"mode\": \"vega-lite\"});\n",
       "</script>"
      ],
      "text/plain": [
       "alt.Chart(...)"
      ]
     },
     "execution_count": 10,
     "metadata": {},
     "output_type": "execute_result"
    }
   ],
   "source": [
    "\n",
    "df_england = df.loc[df['region'] == \"England\"]\n",
    "df_england_plot = alt.Chart(df_england).mark_bar().encode(\n",
    "    alt.X(\"year:O\", title=\"Year\"),\n",
    "    alt.Y(\"admissions_total:Q\", title=\"Admissions\"),\n",
    "    tooltip = alt.Tooltip(\"admissions_total\", format=\",\")\n",
    "\n",
    ").properties(title=\"Hospital admissions due to obesity per year in the UK\", width=100)\n",
    "df_england_plot"
   ]
  },
  {
   "cell_type": "code",
   "execution_count": 11,
   "metadata": {},
   "outputs": [],
   "source": [
    "\n",
    "\n",
    "\"\"\"This line creates a boolean Series named cond where each value is True if the corresponding value in the top_tier column of the DataFrame df is equal to True, and False otherwise. In other words, it identifies rows where the top_tier column is True.\"\"\"\n",
    "\n",
    "cond = df['top_tier'].eq(True)\n",
    "\n",
    "\"\"\"This line does several things:\n",
    "\n",
    "df['region'].where(cond): This returns a Series where values from the region column are retained only for rows where cond is True. For rows where cond is False, the values will be replaced with NaN.\n",
    "\n",
    ".ffill(): This method is called on the result of the previous operation. It stands for \"forward fill\" and it fills NaN values with the previous non-NaN value in the Series. This means that if a row has a NaN value because its top_tier value was False, it will now get the value from the last row where top_tier was True.\n",
    "\n",
    ".where(~cond): This is applied to the result of the ffill() operation. It retains values only for rows where cond is False (because of the ~, which is a bitwise negation operator). For rows where cond is True, the values will be replaced with NaN.\n",
    "\n",
    "The final result of this operation is a Series where:\n",
    "\n",
    "Rows with top_tier set to True will have NaN values.\n",
    "Rows with top_tier set to False will have values from the region column, but these values will be the same as the last row where top_tier was True.\n",
    "Assigning the Result:\n",
    "The resulting Series is assigned to both a new column in the DataFrame df named result and a separate variable named df_regional_level.\"\"\"\n",
    "df_regional_level = df['result'] = df['region'].where(cond).ffill().where(~cond)\n",
    "#df_regional_level"
   ]
  },
  {
   "cell_type": "code",
   "execution_count": 12,
   "metadata": {},
   "outputs": [
    {
     "data": {
      "text/plain": [
       "admissions_total          2772182.0\n",
       "admissions_count_men       944883.0\n",
       "admissions_count_women    1827127.0\n",
       "dtype: float64"
      ]
     },
     "execution_count": 12,
     "metadata": {},
     "output_type": "execute_result"
    }
   ],
   "source": [
    "df_major = df.loc[df['region'].isin(region_list)]\n",
    "df_major[['admissions_total', \n",
    "          \"admissions_count_men\",\n",
    "          \"admissions_count_women\"]].sum()"
   ]
  },
  {
   "cell_type": "code",
   "execution_count": 13,
   "metadata": {},
   "outputs": [
    {
     "data": {
      "text/plain": [
       "Index(['region', 'admissions_total', 'admissions_count_men',\n",
       "       'admissions_count_women', 'adm_per_100_000_all', 'adm_per_male',\n",
       "       'adm_per_female', 'year', 'top_tier', 'result'],\n",
       "      dtype='object')"
      ]
     },
     "execution_count": 13,
     "metadata": {},
     "output_type": "execute_result"
    }
   ],
   "source": [
    "df_major.columns"
   ]
  },
  {
   "cell_type": "code",
   "execution_count": 14,
   "metadata": {},
   "outputs": [
    {
     "data": {
      "text/plain": [
       "523967"
      ]
     },
     "execution_count": 14,
     "metadata": {},
     "output_type": "execute_result"
    }
   ],
   "source": [
    "df_major.loc[df_major['region'] == \"North West\"]['admissions_total'].sum()\n"
   ]
  },
  {
   "cell_type": "code",
   "execution_count": 15,
   "metadata": {},
   "outputs": [
    {
     "data": {
      "text/html": [
       "\n",
       "<style>\n",
       "  #altair-viz-64ac53b48420472cb2306441a7b56d2d.vega-embed {\n",
       "    width: 100%;\n",
       "    display: flex;\n",
       "  }\n",
       "\n",
       "  #altair-viz-64ac53b48420472cb2306441a7b56d2d.vega-embed details,\n",
       "  #altair-viz-64ac53b48420472cb2306441a7b56d2d.vega-embed details summary {\n",
       "    position: relative;\n",
       "  }\n",
       "</style>\n",
       "<div id=\"altair-viz-64ac53b48420472cb2306441a7b56d2d\"></div>\n",
       "<script type=\"text/javascript\">\n",
       "  var VEGA_DEBUG = (typeof VEGA_DEBUG == \"undefined\") ? {} : VEGA_DEBUG;\n",
       "  (function(spec, embedOpt){\n",
       "    let outputDiv = document.currentScript.previousElementSibling;\n",
       "    if (outputDiv.id !== \"altair-viz-64ac53b48420472cb2306441a7b56d2d\") {\n",
       "      outputDiv = document.getElementById(\"altair-viz-64ac53b48420472cb2306441a7b56d2d\");\n",
       "    }\n",
       "    const paths = {\n",
       "      \"vega\": \"https://cdn.jsdelivr.net/npm/vega@5?noext\",\n",
       "      \"vega-lib\": \"https://cdn.jsdelivr.net/npm/vega-lib?noext\",\n",
       "      \"vega-lite\": \"https://cdn.jsdelivr.net/npm/vega-lite@5.14.1?noext\",\n",
       "      \"vega-embed\": \"https://cdn.jsdelivr.net/npm/vega-embed@6?noext\",\n",
       "    };\n",
       "\n",
       "    function maybeLoadScript(lib, version) {\n",
       "      var key = `${lib.replace(\"-\", \"\")}_version`;\n",
       "      return (VEGA_DEBUG[key] == version) ?\n",
       "        Promise.resolve(paths[lib]) :\n",
       "        new Promise(function(resolve, reject) {\n",
       "          var s = document.createElement('script');\n",
       "          document.getElementsByTagName(\"head\")[0].appendChild(s);\n",
       "          s.async = true;\n",
       "          s.onload = () => {\n",
       "            VEGA_DEBUG[key] = version;\n",
       "            return resolve(paths[lib]);\n",
       "          };\n",
       "          s.onerror = () => reject(`Error loading script: ${paths[lib]}`);\n",
       "          s.src = paths[lib];\n",
       "        });\n",
       "    }\n",
       "\n",
       "    function showError(err) {\n",
       "      outputDiv.innerHTML = `<div class=\"error\" style=\"color:red;\">${err}</div>`;\n",
       "      throw err;\n",
       "    }\n",
       "\n",
       "    function displayChart(vegaEmbed) {\n",
       "      vegaEmbed(outputDiv, spec, embedOpt)\n",
       "        .catch(err => showError(`Javascript Error: ${err.message}<br>This usually means there's a typo in your chart specification. See the javascript console for the full traceback.`));\n",
       "    }\n",
       "\n",
       "    if(typeof define === \"function\" && define.amd) {\n",
       "      requirejs.config({paths});\n",
       "      require([\"vega-embed\"], displayChart, err => showError(`Error loading script: ${err.message}`));\n",
       "    } else {\n",
       "      maybeLoadScript(\"vega\", \"5\")\n",
       "        .then(() => maybeLoadScript(\"vega-lite\", \"5.14.1\"))\n",
       "        .then(() => maybeLoadScript(\"vega-embed\", \"6\"))\n",
       "        .catch(showError)\n",
       "        .then(() => displayChart(vegaEmbed));\n",
       "    }\n",
       "  })({\"config\": {\"view\": {\"continuousWidth\": 300, \"continuousHeight\": 300}}, \"data\": {\"name\": \"data-eb3aa683473ccc126d07e087cd980957\"}, \"mark\": {\"type\": \"line\", \"point\": true, \"size\": 5}, \"encoding\": {\"color\": {\"field\": \"region\", \"title\": \"Region\", \"type\": \"nominal\"}, \"tooltip\": [{\"field\": \"region\", \"title\": \"Region\", \"type\": \"nominal\"}, {\"field\": \"admissions_total\", \"format\": \",\", \"title\": \"Admissions\", \"type\": \"quantitative\"}], \"x\": {\"field\": \"year\", \"title\": \"Year\", \"type\": \"ordinal\"}, \"y\": {\"field\": \"admissions_total\", \"title\": \"Total admissions\", \"type\": \"quantitative\"}}, \"width\": 100, \"$schema\": \"https://vega.github.io/schema/vega-lite/v5.14.1.json\", \"datasets\": {\"data-eb3aa683473ccc126d07e087cd980957\": [{\"region\": \"North East\", \"admissions_total\": 17409, \"admissions_count_men\": 6294.0, \"admissions_count_women\": 11115.0, \"adm_per_100_000_all\": 670.4947272054324, \"adm_per_male\": 495.74747282210586, \"adm_per_female\": 837.7027274515524, \"year\": 2014, \"top_tier\": true, \"result\": null}, {\"region\": \"North East\", \"admissions_total\": 17409, \"admissions_count_men\": 6294.0, \"admissions_count_women\": 11115.0, \"adm_per_100_000_all\": 670.4947272054324, \"adm_per_male\": 495.74747282210586, \"adm_per_female\": 837.7027274515524, \"year\": 2014, \"top_tier\": true, \"result\": null}, {\"region\": \"North West\", \"admissions_total\": 41358, \"admissions_count_men\": 13913.0, \"admissions_count_women\": 27441.0, \"adm_per_100_000_all\": 586.1426955165994, \"adm_per_male\": 401.2138210418525, \"adm_per_female\": 764.7494561391482, \"year\": 2014, \"top_tier\": true, \"result\": null}, {\"region\": \"North West\", \"admissions_total\": 41358, \"admissions_count_men\": 13913.0, \"admissions_count_women\": 27441.0, \"adm_per_100_000_all\": 586.1426955165994, \"adm_per_male\": 401.2138210418525, \"adm_per_female\": 764.7494561391482, \"year\": 2014, \"top_tier\": true, \"result\": null}, {\"region\": \"East Midlands\", \"admissions_total\": 19256, \"admissions_count_men\": 6058.0, \"admissions_count_women\": 13198.0, \"adm_per_100_000_all\": 424.37951906005316, \"adm_per_male\": 270.8116616204265, \"adm_per_female\": 573.7091001878313, \"year\": 2014, \"top_tier\": true, \"result\": null}, {\"region\": \"East Midlands\", \"admissions_total\": 19256, \"admissions_count_men\": 6058.0, \"admissions_count_women\": 13198.0, \"adm_per_100_000_all\": 424.37951906005316, \"adm_per_male\": 270.8116616204265, \"adm_per_female\": 573.7091001878313, \"year\": 2014, \"top_tier\": true, \"result\": null}, {\"region\": \"West Midlands\", \"admissions_total\": 40394, \"admissions_count_men\": 12268.0, \"admissions_count_women\": 28125.0, \"adm_per_100_000_all\": 720.2067799710697, \"adm_per_male\": 443.32661188323465, \"adm_per_female\": 989.8265190449661, \"year\": 2014, \"top_tier\": true, \"result\": null}, {\"region\": \"West Midlands\", \"admissions_total\": 40394, \"admissions_count_men\": 12268.0, \"admissions_count_women\": 28125.0, \"adm_per_100_000_all\": 720.2067799710697, \"adm_per_male\": 443.32661188323465, \"adm_per_female\": 989.8265190449661, \"year\": 2014, \"top_tier\": true, \"result\": null}, {\"region\": \"London\", \"admissions_total\": 37892, \"admissions_count_men\": 13281.0, \"admissions_count_women\": 24606.0, \"adm_per_100_000_all\": 461.8493451141563, \"adm_per_male\": 327.60543882749766, \"adm_per_female\": 592.8520917636542, \"year\": 2014, \"top_tier\": true, \"result\": null}, {\"region\": \"London\", \"admissions_total\": 37892, \"admissions_count_men\": 13281.0, \"admissions_count_women\": 24606.0, \"adm_per_100_000_all\": 461.8493451141563, \"adm_per_male\": 327.60543882749766, \"adm_per_female\": 592.8520917636542, \"year\": 2014, \"top_tier\": true, \"result\": null}, {\"region\": \"South East\", \"admissions_total\": 36779, \"admissions_count_men\": 13280.0, \"admissions_count_women\": 23482.0, \"adm_per_100_000_all\": 425.0539479547854, \"adm_per_male\": 312.3660742217545, \"adm_per_female\": 533.516670521534, \"year\": 2014, \"top_tier\": true, \"result\": null}, {\"region\": \"West Sussex\", \"admissions_total\": 5183, \"admissions_count_men\": 1977.0, \"admissions_count_women\": 3206.0, \"adm_per_100_000_all\": 640.7316430940551, \"adm_per_male\": 504.71269414972375, \"adm_per_female\": 768.4361150592865, \"year\": 2014, \"top_tier\": true, \"result\": null}, {\"region\": \"South West\", \"admissions_total\": 36338, \"admissions_count_men\": 12260.0, \"admissions_count_women\": 24078.0, \"adm_per_100_000_all\": 685.5151579063736, \"adm_per_male\": 471.67561029283894, \"adm_per_female\": 891.2539185301084, \"year\": 2014, \"top_tier\": true, \"result\": null}, {\"region\": \"South West\", \"admissions_total\": 36338, \"admissions_count_men\": 12260.0, \"admissions_count_women\": 24078.0, \"adm_per_100_000_all\": 685.5151579063736, \"adm_per_male\": 471.67561029283894, \"adm_per_female\": 891.2539185301084, \"year\": 2014, \"top_tier\": true, \"result\": null}, {\"region\": \"North East\", \"admissions_total\": 18824, \"admissions_count_men\": 6340.0, \"admissions_count_women\": 12484.0, \"adm_per_100_000_all\": 721.0931625244543, \"adm_per_male\": 495.9114680700283, \"adm_per_female\": 937.218239570219, \"year\": 2015, \"top_tier\": true, \"result\": null}, {\"region\": \"North West\", \"admissions_total\": 55848, \"admissions_count_men\": 19879.0, \"admissions_count_women\": 35963.0, \"adm_per_100_000_all\": 786.2305476640304, \"adm_per_male\": 568.7818614694709, \"adm_per_female\": 996.6889738978512, \"year\": 2015, \"top_tier\": true, \"result\": null}, {\"region\": \"North Yorkshire\", \"admissions_total\": 2703, \"admissions_count_men\": 1056.0, \"admissions_count_women\": 1647.0, \"adm_per_100_000_all\": 448.44537278369603, \"adm_per_male\": 355.16332131518055, \"adm_per_female\": 539.2556503973204, \"year\": 2015, \"top_tier\": true, \"result\": null}, {\"region\": \"East Midlands\", \"admissions_total\": 25932, \"admissions_count_men\": 7899.0, \"admissions_count_women\": 18032.0, \"adm_per_100_000_all\": 563.8949370576087, \"adm_per_male\": 348.26629607617326, \"adm_per_female\": 773.6940587487455, \"year\": 2015, \"top_tier\": true, \"result\": null}, {\"region\": \"West Midlands\", \"admissions_total\": 45682, \"admissions_count_men\": 14083.0, \"admissions_count_women\": 31598.0, \"adm_per_100_000_all\": 805.0100163673504, \"adm_per_male\": 502.32400201314823, \"adm_per_female\": 1100.5373121436305, \"year\": 2015, \"top_tier\": true, \"result\": null}, {\"region\": \"London\", \"admissions_total\": 42511, \"admissions_count_men\": 14249.0, \"admissions_count_women\": 28250.0, \"adm_per_100_000_all\": 505.0890895124894, \"adm_per_male\": 342.08533047161876, \"adm_per_female\": 664.5182536695521, \"year\": 2015, \"top_tier\": true, \"result\": null}, {\"region\": \"South East\", \"admissions_total\": 51102, \"admissions_count_men\": 18228.0, \"admissions_count_women\": 32865.0, \"adm_per_100_000_all\": 581.1915575619844, \"adm_per_male\": 421.5843411530429, \"adm_per_female\": 735.4099499299163, \"year\": 2015, \"top_tier\": true, \"result\": null}, {\"region\": \"West Sussex\", \"admissions_total\": 6794, \"admissions_count_men\": 2542.0, \"admissions_count_women\": 4251.0, \"adm_per_100_000_all\": 827.1687307330805, \"adm_per_male\": 638.4223784372967, \"adm_per_female\": 1004.5204602220768, \"year\": 2015, \"top_tier\": true, \"result\": null}, {\"region\": \"South West\", \"admissions_total\": 48098, \"admissions_count_men\": 16484.0, \"admissions_count_women\": 31614.0, \"adm_per_100_000_all\": 894.4146965325579, \"adm_per_male\": 624.3045503333235, \"adm_per_female\": 1154.9687145739633, \"year\": 2015, \"top_tier\": true, \"result\": null}, {\"region\": \"North East\", \"admissions_total\": 19414, \"admissions_count_men\": 6574.0, \"admissions_count_women\": 12840.0, \"adm_per_100_000_all\": 741.3573858884719, \"adm_per_male\": 512.3065797184574, \"adm_per_female\": 961.4419832661173, \"year\": 2016, \"top_tier\": true, \"result\": null}, {\"region\": \"North West\", \"admissions_total\": 70380, \"admissions_count_men\": 24718.0, \"admissions_count_women\": 45654.0, \"adm_per_100_000_all\": 986.682865574904, \"adm_per_male\": 703.9473796628183, \"adm_per_female\": 1260.585992734249, \"year\": 2016, \"top_tier\": true, \"result\": null}, {\"region\": \"North Yorkshire\", \"admissions_total\": 4749, \"admissions_count_men\": 1763.0, \"admissions_count_women\": 2985.0, \"adm_per_100_000_all\": 789.4789339291414, \"adm_per_male\": 595.5397015207712, \"adm_per_female\": 977.0803464461771, \"year\": 2016, \"top_tier\": true, \"result\": null}, {\"region\": \"East Midlands\", \"admissions_total\": 34839, \"admissions_count_men\": 11451.0, \"admissions_count_women\": 23381.0, \"adm_per_100_000_all\": 751.2593767257737, \"adm_per_male\": 500.46720761937394, \"adm_per_female\": 995.2110178513129, \"year\": 2016, \"top_tier\": true, \"result\": null}, {\"region\": \"West Midlands\", \"admissions_total\": 54212, \"admissions_count_men\": 16465.0, \"admissions_count_women\": 37744.0, \"adm_per_100_000_all\": 948.8763380220552, \"adm_per_male\": 582.9794089477514, \"adm_per_female\": 1306.4732801915127, \"year\": 2016, \"top_tier\": true, \"result\": null}, {\"region\": \"London\", \"admissions_total\": 44893, \"admissions_count_men\": 15370.0, \"admissions_count_women\": 29513.0, \"adm_per_100_000_all\": 525.7598678204581, \"adm_per_male\": 363.0120696199049, \"adm_per_female\": 685.604239117052, \"year\": 2016, \"top_tier\": true, \"result\": null}, {\"region\": \"South East\", \"admissions_total\": 61957, \"admissions_count_men\": 22420.0, \"admissions_count_women\": 39532.0, \"adm_per_100_000_all\": 698.200030697046, \"adm_per_male\": 513.653515273288, \"adm_per_female\": 876.7338625258593, \"year\": 2016, \"top_tier\": true, \"result\": null}, {\"region\": \"West Sussex\", \"admissions_total\": 7897, \"admissions_count_men\": 2949.0, \"admissions_count_women\": 4945.0, \"adm_per_100_000_all\": 953.285739463398, \"adm_per_male\": 734.3785797531651, \"adm_per_female\": 1158.5300140101303, \"year\": 2016, \"top_tier\": true, \"result\": null}, {\"region\": \"South West\", \"admissions_total\": 58128, \"admissions_count_men\": 20216.0, \"admissions_count_women\": 37907.0, \"adm_per_100_000_all\": 1071.819147851411, \"adm_per_male\": 758.9941900301292, \"adm_per_female\": 1373.5525103830817, \"year\": 2016, \"top_tier\": true, \"result\": null}, {\"region\": \"North East\", \"admissions_total\": 24410, \"admissions_count_men\": 8645.0, \"admissions_count_women\": 15765.0, \"adm_per_100_000_all\": 932.0, \"adm_per_male\": 684.0, \"adm_per_female\": 1177.0, \"year\": 2019, \"top_tier\": true, \"result\": null}, {\"region\": \"North West\", \"admissions_total\": 112385, \"admissions_count_men\": 41370.0, \"admissions_count_women\": 71015.0, \"adm_per_100_000_all\": 1595.0, \"adm_per_male\": 1231.0, \"adm_per_female\": 1959.0, \"year\": 2019, \"top_tier\": true, \"result\": null}, {\"region\": \"North Yorkshire\", \"admissions_total\": 9475, \"admissions_count_men\": 3700.0, \"admissions_count_women\": 5770.0, \"adm_per_100_000_all\": 1492.0, \"adm_per_male\": 1146.0, \"adm_per_female\": 1870.0, \"year\": 2019, \"top_tier\": true, \"result\": null}, {\"region\": \"East Midlands\", \"admissions_total\": 88510, \"admissions_count_men\": 29640.0, \"admissions_count_women\": 58865.0, \"adm_per_100_000_all\": 1893.0, \"adm_per_male\": 1316.0, \"adm_per_female\": 2472.0, \"year\": 2019, \"top_tier\": true, \"result\": null}, {\"region\": \"West Midlands\", \"admissions_total\": 102675, \"admissions_count_men\": 32085.0, \"admissions_count_women\": 70590.0, \"adm_per_100_000_all\": 1817.0, \"adm_per_male\": 1202.0, \"adm_per_female\": 2440.0, \"year\": 2019, \"top_tier\": true, \"result\": null}, {\"region\": \"London\", \"admissions_total\": 75815, \"admissions_count_men\": 24150.0, \"admissions_count_women\": 51665.0, \"adm_per_100_000_all\": 1012.0, \"adm_per_male\": 757.0, \"adm_per_female\": 1266.0, \"year\": 2019, \"top_tier\": true, \"result\": null}, {\"region\": \"South East\", \"admissions_total\": 90040, \"admissions_count_men\": 33220.0, \"admissions_count_women\": 56820.0, \"adm_per_100_000_all\": 1023.0, \"adm_per_male\": 783.0, \"adm_per_female\": 1262.0, \"year\": 2019, \"top_tier\": true, \"result\": null}, {\"region\": \"West Sussex\", \"admissions_total\": 10670, \"admissions_count_men\": 3850.0, \"admissions_count_women\": 6815.0, \"adm_per_100_000_all\": 1257.0, \"adm_per_male\": 913.0, \"adm_per_female\": 1593.0, \"year\": 2019, \"top_tier\": true, \"result\": null}, {\"region\": \"South West\", \"admissions_total\": 76695, \"admissions_count_men\": 26485.0, \"admissions_count_women\": 50210.0, \"adm_per_100_000_all\": 1378.0, \"adm_per_male\": 961.0, \"adm_per_female\": 1804.0, \"year\": 2019, \"top_tier\": true, \"result\": null}, {\"region\": \"North East\", \"admissions_total\": 22376, \"admissions_count_men\": 7759.0, \"admissions_count_women\": 14616.0, \"adm_per_100_000_all\": 861.0, \"adm_per_male\": 619.0, \"adm_per_female\": 1097.0, \"year\": 2018, \"top_tier\": true, \"result\": null}, {\"region\": \"North West\", \"admissions_total\": 90253, \"admissions_count_men\": 32066.0, \"admissions_count_women\": 58185.0, \"adm_per_100_000_all\": 1290.0, \"adm_per_male\": 963.0, \"adm_per_female\": 1618.0, \"year\": 2018, \"top_tier\": true, \"result\": null}, {\"region\": \"North Yorkshire\", \"admissions_total\": 8408, \"admissions_count_men\": 3274.0, \"admissions_count_women\": 5134.0, \"adm_per_100_000_all\": 1359.0, \"adm_per_male\": 1025.0, \"adm_per_female\": 1721.0, \"year\": 2018, \"top_tier\": true, \"result\": null}, {\"region\": \"East Midlands\", \"admissions_total\": 64200, \"admissions_count_men\": 20849.0, \"admissions_count_women\": 43347.0, \"adm_per_100_000_all\": 1391.0, \"adm_per_male\": 938.0, \"adm_per_female\": 1846.0, \"year\": 2018, \"top_tier\": true, \"result\": null}, {\"region\": \"West Midlands\", \"admissions_total\": 92389, \"admissions_count_men\": 28426.0, \"admissions_count_women\": 63950.0, \"adm_per_100_000_all\": 1655.0, \"adm_per_male\": 1078.0, \"adm_per_female\": 2237.0, \"year\": 2018, \"top_tier\": true, \"result\": null}, {\"region\": \"London\", \"admissions_total\": 61904, \"admissions_count_men\": 20481.0, \"admissions_count_women\": 41417.0, \"adm_per_100_000_all\": 852.0, \"adm_per_male\": 651.0, \"adm_per_female\": 1050.0, \"year\": 2018, \"top_tier\": true, \"result\": null}, {\"region\": \"South East\", \"admissions_total\": 82787, \"admissions_count_men\": 30191.0, \"admissions_count_women\": 52590.0, \"adm_per_100_000_all\": 950.0, \"adm_per_male\": 721.0, \"adm_per_female\": 1178.0, \"year\": 2018, \"top_tier\": true, \"result\": null}, {\"region\": \"West Sussex\", \"admissions_total\": 10046, \"admissions_count_men\": 3664.0, \"admissions_count_women\": 6381.0, \"adm_per_100_000_all\": 1198.0, \"adm_per_male\": 882.0, \"adm_per_female\": 1506.0, \"year\": 2018, \"top_tier\": true, \"result\": null}, {\"region\": \"South West\", \"admissions_total\": 77250, \"admissions_count_men\": 25792.0, \"admissions_count_women\": 51458.0, \"adm_per_100_000_all\": 1405.0, \"adm_per_male\": 949.0, \"adm_per_female\": 1868.0, \"year\": 2018, \"top_tier\": true, \"result\": null}, {\"region\": \"North East\", \"admissions_total\": 24410, \"admissions_count_men\": 8645.0, \"admissions_count_women\": 15765.0, \"adm_per_100_000_all\": 932.0, \"adm_per_male\": 684.0, \"adm_per_female\": 1177.0, \"year\": 2019, \"top_tier\": true, \"result\": null}, {\"region\": \"North West\", \"admissions_total\": 112385, \"admissions_count_men\": 41370.0, \"admissions_count_women\": 71015.0, \"adm_per_100_000_all\": 1595.0, \"adm_per_male\": 1231.0, \"adm_per_female\": 1959.0, \"year\": 2019, \"top_tier\": true, \"result\": null}, {\"region\": \"North Yorkshire\", \"admissions_total\": 9475, \"admissions_count_men\": 3700.0, \"admissions_count_women\": 5770.0, \"adm_per_100_000_all\": 1492.0, \"adm_per_male\": 1146.0, \"adm_per_female\": 1870.0, \"year\": 2019, \"top_tier\": true, \"result\": null}, {\"region\": \"East Midlands\", \"admissions_total\": 88510, \"admissions_count_men\": 29640.0, \"admissions_count_women\": 58865.0, \"adm_per_100_000_all\": 1893.0, \"adm_per_male\": 1316.0, \"adm_per_female\": 2472.0, \"year\": 2019, \"top_tier\": true, \"result\": null}, {\"region\": \"West Midlands\", \"admissions_total\": 102675, \"admissions_count_men\": 32085.0, \"admissions_count_women\": 70590.0, \"adm_per_100_000_all\": 1817.0, \"adm_per_male\": 1202.0, \"adm_per_female\": 2440.0, \"year\": 2019, \"top_tier\": true, \"result\": null}, {\"region\": \"London\", \"admissions_total\": 75815, \"admissions_count_men\": 24150.0, \"admissions_count_women\": 51665.0, \"adm_per_100_000_all\": 1012.0, \"adm_per_male\": 757.0, \"adm_per_female\": 1266.0, \"year\": 2019, \"top_tier\": true, \"result\": null}, {\"region\": \"South East\", \"admissions_total\": 90040, \"admissions_count_men\": 33220.0, \"admissions_count_women\": 56820.0, \"adm_per_100_000_all\": 1023.0, \"adm_per_male\": 783.0, \"adm_per_female\": 1262.0, \"year\": 2019, \"top_tier\": true, \"result\": null}, {\"region\": \"West Sussex\", \"admissions_total\": 10670, \"admissions_count_men\": 3850.0, \"admissions_count_women\": 6815.0, \"adm_per_100_000_all\": 1257.0, \"adm_per_male\": 913.0, \"adm_per_female\": 1593.0, \"year\": 2019, \"top_tier\": true, \"result\": null}, {\"region\": \"South West\", \"admissions_total\": 76695, \"admissions_count_men\": 26485.0, \"admissions_count_women\": 50210.0, \"adm_per_100_000_all\": 1378.0, \"adm_per_male\": 961.0, \"adm_per_female\": 1804.0, \"year\": 2019, \"top_tier\": true, \"result\": null}]}}, {\"mode\": \"vega-lite\"});\n",
       "</script>"
      ],
      "text/plain": [
       "alt.Chart(...)"
      ]
     },
     "execution_count": 15,
     "metadata": {},
     "output_type": "execute_result"
    }
   ],
   "source": [
    "regional = alt.Chart(df_major).mark_line(size=5, point=True).encode(\n",
    "    alt.X(\"year:O\", title=\"Year\"),\n",
    "    alt.Y(\"admissions_total:Q\", title=\"Total admissions\"),\n",
    "    color=alt.Color(\"region:N\", title=\"Region\"), \n",
    "\n",
    "    tooltip=[\n",
    "        alt.Tooltip(\"region:N\", title=\"Region\"),\n",
    "        alt.Tooltip(\"admissions_total:Q\", title=\"Admissions\", format=\",\")\n",
    "    ]).properties(width=100)\n",
    "#.configure_legend(orient='left').properties(title=\"Obesety-related hospital admissions by UK regions\", width=200)\n",
    "\n",
    "\n",
    "regional"
   ]
  },
  {
   "cell_type": "code",
   "execution_count": 16,
   "metadata": {},
   "outputs": [
    {
     "data": {
      "text/html": [
       "\n",
       "<style>\n",
       "  #altair-viz-7a0b8960ff7c4da9bb94b4220e8539e9.vega-embed {\n",
       "    width: 100%;\n",
       "    display: flex;\n",
       "  }\n",
       "\n",
       "  #altair-viz-7a0b8960ff7c4da9bb94b4220e8539e9.vega-embed details,\n",
       "  #altair-viz-7a0b8960ff7c4da9bb94b4220e8539e9.vega-embed details summary {\n",
       "    position: relative;\n",
       "  }\n",
       "</style>\n",
       "<div id=\"altair-viz-7a0b8960ff7c4da9bb94b4220e8539e9\"></div>\n",
       "<script type=\"text/javascript\">\n",
       "  var VEGA_DEBUG = (typeof VEGA_DEBUG == \"undefined\") ? {} : VEGA_DEBUG;\n",
       "  (function(spec, embedOpt){\n",
       "    let outputDiv = document.currentScript.previousElementSibling;\n",
       "    if (outputDiv.id !== \"altair-viz-7a0b8960ff7c4da9bb94b4220e8539e9\") {\n",
       "      outputDiv = document.getElementById(\"altair-viz-7a0b8960ff7c4da9bb94b4220e8539e9\");\n",
       "    }\n",
       "    const paths = {\n",
       "      \"vega\": \"https://cdn.jsdelivr.net/npm/vega@5?noext\",\n",
       "      \"vega-lib\": \"https://cdn.jsdelivr.net/npm/vega-lib?noext\",\n",
       "      \"vega-lite\": \"https://cdn.jsdelivr.net/npm/vega-lite@5.14.1?noext\",\n",
       "      \"vega-embed\": \"https://cdn.jsdelivr.net/npm/vega-embed@6?noext\",\n",
       "    };\n",
       "\n",
       "    function maybeLoadScript(lib, version) {\n",
       "      var key = `${lib.replace(\"-\", \"\")}_version`;\n",
       "      return (VEGA_DEBUG[key] == version) ?\n",
       "        Promise.resolve(paths[lib]) :\n",
       "        new Promise(function(resolve, reject) {\n",
       "          var s = document.createElement('script');\n",
       "          document.getElementsByTagName(\"head\")[0].appendChild(s);\n",
       "          s.async = true;\n",
       "          s.onload = () => {\n",
       "            VEGA_DEBUG[key] = version;\n",
       "            return resolve(paths[lib]);\n",
       "          };\n",
       "          s.onerror = () => reject(`Error loading script: ${paths[lib]}`);\n",
       "          s.src = paths[lib];\n",
       "        });\n",
       "    }\n",
       "\n",
       "    function showError(err) {\n",
       "      outputDiv.innerHTML = `<div class=\"error\" style=\"color:red;\">${err}</div>`;\n",
       "      throw err;\n",
       "    }\n",
       "\n",
       "    function displayChart(vegaEmbed) {\n",
       "      vegaEmbed(outputDiv, spec, embedOpt)\n",
       "        .catch(err => showError(`Javascript Error: ${err.message}<br>This usually means there's a typo in your chart specification. See the javascript console for the full traceback.`));\n",
       "    }\n",
       "\n",
       "    if(typeof define === \"function\" && define.amd) {\n",
       "      requirejs.config({paths});\n",
       "      require([\"vega-embed\"], displayChart, err => showError(`Error loading script: ${err.message}`));\n",
       "    } else {\n",
       "      maybeLoadScript(\"vega\", \"5\")\n",
       "        .then(() => maybeLoadScript(\"vega-lite\", \"5.14.1\"))\n",
       "        .then(() => maybeLoadScript(\"vega-embed\", \"6\"))\n",
       "        .catch(showError)\n",
       "        .then(() => displayChart(vegaEmbed));\n",
       "    }\n",
       "  })({\"config\": {\"view\": {\"continuousWidth\": 300, \"continuousHeight\": 300}}, \"hconcat\": [{\"data\": {\"name\": \"data-48cdbf9928110e64942b2d88c71b42df\"}, \"mark\": {\"type\": \"bar\"}, \"encoding\": {\"tooltip\": {\"field\": \"admissions_total\", \"format\": \",\", \"type\": \"quantitative\"}, \"x\": {\"field\": \"year\", \"title\": \"Year\", \"type\": \"ordinal\"}, \"y\": {\"field\": \"admissions_total\", \"title\": \"Admissions\", \"type\": \"quantitative\"}}, \"title\": \"Hospital admissions due to obesity per year in the UK\", \"width\": 100}, {\"data\": {\"name\": \"data-eb3aa683473ccc126d07e087cd980957\"}, \"mark\": {\"type\": \"line\", \"point\": true, \"size\": 5}, \"encoding\": {\"color\": {\"field\": \"region\", \"title\": \"Region\", \"type\": \"nominal\"}, \"tooltip\": [{\"field\": \"region\", \"title\": \"Region\", \"type\": \"nominal\"}, {\"field\": \"admissions_total\", \"format\": \",\", \"title\": \"Admissions\", \"type\": \"quantitative\"}], \"x\": {\"field\": \"year\", \"title\": \"Year\", \"type\": \"ordinal\"}, \"y\": {\"field\": \"admissions_total\", \"title\": \"Total admissions\", \"type\": \"quantitative\"}}, \"width\": 100}], \"$schema\": \"https://vega.github.io/schema/vega-lite/v5.14.1.json\", \"datasets\": {\"data-48cdbf9928110e64942b2d88c71b42df\": [{\"region\": \"England\", \"admissions_total\": 292404, \"admissions_count_men\": 99579.0, \"admissions_count_women\": 192795.0, \"adm_per_100_000_all\": 550.5923315174265, \"adm_per_male\": 381.04459001172535, \"adm_per_female\": 714.743641906818, \"year\": 2014, \"top_tier\": true}, {\"region\": \"England\", \"admissions_total\": 365577, \"admissions_count_men\": 123423.0, \"admissions_count_women\": 242118.0, \"adm_per_100_000_all\": 678.6808784502424, \"adm_per_male\": 465.15091654776563, \"adm_per_female\": 885.84569912726, \"year\": 2015, \"top_tier\": true}, {\"region\": \"England\", \"admissions_total\": 440288, \"admissions_count_men\": 149490.0, \"admissions_count_women\": 290747.0, \"adm_per_100_000_all\": 810.5953872164869, \"adm_per_male\": 558.3569477472918, \"adm_per_female\": 1055.5950527861062, \"year\": 2016, \"top_tier\": true}, {\"region\": \"England\", \"admissions_total\": 710562, \"admissions_count_men\": 243565.0, \"admissions_count_women\": 466978.0, \"adm_per_100_000_all\": 1322.8, \"adm_per_male\": 963.1, \"adm_per_female\": 1685.2, \"year\": 2019, \"top_tier\": true}, {\"region\": \"England\", \"admissions_total\": 616961, \"admissions_count_men\": 208290.0, \"admissions_count_women\": 408630.0, \"adm_per_100_000_all\": 1159.0, \"adm_per_male\": 833.0, \"adm_per_female\": 1486.0, \"year\": 2018, \"top_tier\": true}, {\"region\": \"England\", \"admissions_total\": 710562, \"admissions_count_men\": 243565.0, \"admissions_count_women\": 466978.0, \"adm_per_100_000_all\": 1322.8, \"adm_per_male\": 963.1, \"adm_per_female\": 1685.2, \"year\": 2019, \"top_tier\": true}], \"data-eb3aa683473ccc126d07e087cd980957\": [{\"region\": \"North East\", \"admissions_total\": 17409, \"admissions_count_men\": 6294.0, \"admissions_count_women\": 11115.0, \"adm_per_100_000_all\": 670.4947272054324, \"adm_per_male\": 495.74747282210586, \"adm_per_female\": 837.7027274515524, \"year\": 2014, \"top_tier\": true, \"result\": null}, {\"region\": \"North East\", \"admissions_total\": 17409, \"admissions_count_men\": 6294.0, \"admissions_count_women\": 11115.0, \"adm_per_100_000_all\": 670.4947272054324, \"adm_per_male\": 495.74747282210586, \"adm_per_female\": 837.7027274515524, \"year\": 2014, \"top_tier\": true, \"result\": null}, {\"region\": \"North West\", \"admissions_total\": 41358, \"admissions_count_men\": 13913.0, \"admissions_count_women\": 27441.0, \"adm_per_100_000_all\": 586.1426955165994, \"adm_per_male\": 401.2138210418525, \"adm_per_female\": 764.7494561391482, \"year\": 2014, \"top_tier\": true, \"result\": null}, {\"region\": \"North West\", \"admissions_total\": 41358, \"admissions_count_men\": 13913.0, \"admissions_count_women\": 27441.0, \"adm_per_100_000_all\": 586.1426955165994, \"adm_per_male\": 401.2138210418525, \"adm_per_female\": 764.7494561391482, \"year\": 2014, \"top_tier\": true, \"result\": null}, {\"region\": \"East Midlands\", \"admissions_total\": 19256, \"admissions_count_men\": 6058.0, \"admissions_count_women\": 13198.0, \"adm_per_100_000_all\": 424.37951906005316, \"adm_per_male\": 270.8116616204265, \"adm_per_female\": 573.7091001878313, \"year\": 2014, \"top_tier\": true, \"result\": null}, {\"region\": \"East Midlands\", \"admissions_total\": 19256, \"admissions_count_men\": 6058.0, \"admissions_count_women\": 13198.0, \"adm_per_100_000_all\": 424.37951906005316, \"adm_per_male\": 270.8116616204265, \"adm_per_female\": 573.7091001878313, \"year\": 2014, \"top_tier\": true, \"result\": null}, {\"region\": \"West Midlands\", \"admissions_total\": 40394, \"admissions_count_men\": 12268.0, \"admissions_count_women\": 28125.0, \"adm_per_100_000_all\": 720.2067799710697, \"adm_per_male\": 443.32661188323465, \"adm_per_female\": 989.8265190449661, \"year\": 2014, \"top_tier\": true, \"result\": null}, {\"region\": \"West Midlands\", \"admissions_total\": 40394, \"admissions_count_men\": 12268.0, \"admissions_count_women\": 28125.0, \"adm_per_100_000_all\": 720.2067799710697, \"adm_per_male\": 443.32661188323465, \"adm_per_female\": 989.8265190449661, \"year\": 2014, \"top_tier\": true, \"result\": null}, {\"region\": \"London\", \"admissions_total\": 37892, \"admissions_count_men\": 13281.0, \"admissions_count_women\": 24606.0, \"adm_per_100_000_all\": 461.8493451141563, \"adm_per_male\": 327.60543882749766, \"adm_per_female\": 592.8520917636542, \"year\": 2014, \"top_tier\": true, \"result\": null}, {\"region\": \"London\", \"admissions_total\": 37892, \"admissions_count_men\": 13281.0, \"admissions_count_women\": 24606.0, \"adm_per_100_000_all\": 461.8493451141563, \"adm_per_male\": 327.60543882749766, \"adm_per_female\": 592.8520917636542, \"year\": 2014, \"top_tier\": true, \"result\": null}, {\"region\": \"South East\", \"admissions_total\": 36779, \"admissions_count_men\": 13280.0, \"admissions_count_women\": 23482.0, \"adm_per_100_000_all\": 425.0539479547854, \"adm_per_male\": 312.3660742217545, \"adm_per_female\": 533.516670521534, \"year\": 2014, \"top_tier\": true, \"result\": null}, {\"region\": \"West Sussex\", \"admissions_total\": 5183, \"admissions_count_men\": 1977.0, \"admissions_count_women\": 3206.0, \"adm_per_100_000_all\": 640.7316430940551, \"adm_per_male\": 504.71269414972375, \"adm_per_female\": 768.4361150592865, \"year\": 2014, \"top_tier\": true, \"result\": null}, {\"region\": \"South West\", \"admissions_total\": 36338, \"admissions_count_men\": 12260.0, \"admissions_count_women\": 24078.0, \"adm_per_100_000_all\": 685.5151579063736, \"adm_per_male\": 471.67561029283894, \"adm_per_female\": 891.2539185301084, \"year\": 2014, \"top_tier\": true, \"result\": null}, {\"region\": \"South West\", \"admissions_total\": 36338, \"admissions_count_men\": 12260.0, \"admissions_count_women\": 24078.0, \"adm_per_100_000_all\": 685.5151579063736, \"adm_per_male\": 471.67561029283894, \"adm_per_female\": 891.2539185301084, \"year\": 2014, \"top_tier\": true, \"result\": null}, {\"region\": \"North East\", \"admissions_total\": 18824, \"admissions_count_men\": 6340.0, \"admissions_count_women\": 12484.0, \"adm_per_100_000_all\": 721.0931625244543, \"adm_per_male\": 495.9114680700283, \"adm_per_female\": 937.218239570219, \"year\": 2015, \"top_tier\": true, \"result\": null}, {\"region\": \"North West\", \"admissions_total\": 55848, \"admissions_count_men\": 19879.0, \"admissions_count_women\": 35963.0, \"adm_per_100_000_all\": 786.2305476640304, \"adm_per_male\": 568.7818614694709, \"adm_per_female\": 996.6889738978512, \"year\": 2015, \"top_tier\": true, \"result\": null}, {\"region\": \"North Yorkshire\", \"admissions_total\": 2703, \"admissions_count_men\": 1056.0, \"admissions_count_women\": 1647.0, \"adm_per_100_000_all\": 448.44537278369603, \"adm_per_male\": 355.16332131518055, \"adm_per_female\": 539.2556503973204, \"year\": 2015, \"top_tier\": true, \"result\": null}, {\"region\": \"East Midlands\", \"admissions_total\": 25932, \"admissions_count_men\": 7899.0, \"admissions_count_women\": 18032.0, \"adm_per_100_000_all\": 563.8949370576087, \"adm_per_male\": 348.26629607617326, \"adm_per_female\": 773.6940587487455, \"year\": 2015, \"top_tier\": true, \"result\": null}, {\"region\": \"West Midlands\", \"admissions_total\": 45682, \"admissions_count_men\": 14083.0, \"admissions_count_women\": 31598.0, \"adm_per_100_000_all\": 805.0100163673504, \"adm_per_male\": 502.32400201314823, \"adm_per_female\": 1100.5373121436305, \"year\": 2015, \"top_tier\": true, \"result\": null}, {\"region\": \"London\", \"admissions_total\": 42511, \"admissions_count_men\": 14249.0, \"admissions_count_women\": 28250.0, \"adm_per_100_000_all\": 505.0890895124894, \"adm_per_male\": 342.08533047161876, \"adm_per_female\": 664.5182536695521, \"year\": 2015, \"top_tier\": true, \"result\": null}, {\"region\": \"South East\", \"admissions_total\": 51102, \"admissions_count_men\": 18228.0, \"admissions_count_women\": 32865.0, \"adm_per_100_000_all\": 581.1915575619844, \"adm_per_male\": 421.5843411530429, \"adm_per_female\": 735.4099499299163, \"year\": 2015, \"top_tier\": true, \"result\": null}, {\"region\": \"West Sussex\", \"admissions_total\": 6794, \"admissions_count_men\": 2542.0, \"admissions_count_women\": 4251.0, \"adm_per_100_000_all\": 827.1687307330805, \"adm_per_male\": 638.4223784372967, \"adm_per_female\": 1004.5204602220768, \"year\": 2015, \"top_tier\": true, \"result\": null}, {\"region\": \"South West\", \"admissions_total\": 48098, \"admissions_count_men\": 16484.0, \"admissions_count_women\": 31614.0, \"adm_per_100_000_all\": 894.4146965325579, \"adm_per_male\": 624.3045503333235, \"adm_per_female\": 1154.9687145739633, \"year\": 2015, \"top_tier\": true, \"result\": null}, {\"region\": \"North East\", \"admissions_total\": 19414, \"admissions_count_men\": 6574.0, \"admissions_count_women\": 12840.0, \"adm_per_100_000_all\": 741.3573858884719, \"adm_per_male\": 512.3065797184574, \"adm_per_female\": 961.4419832661173, \"year\": 2016, \"top_tier\": true, \"result\": null}, {\"region\": \"North West\", \"admissions_total\": 70380, \"admissions_count_men\": 24718.0, \"admissions_count_women\": 45654.0, \"adm_per_100_000_all\": 986.682865574904, \"adm_per_male\": 703.9473796628183, \"adm_per_female\": 1260.585992734249, \"year\": 2016, \"top_tier\": true, \"result\": null}, {\"region\": \"North Yorkshire\", \"admissions_total\": 4749, \"admissions_count_men\": 1763.0, \"admissions_count_women\": 2985.0, \"adm_per_100_000_all\": 789.4789339291414, \"adm_per_male\": 595.5397015207712, \"adm_per_female\": 977.0803464461771, \"year\": 2016, \"top_tier\": true, \"result\": null}, {\"region\": \"East Midlands\", \"admissions_total\": 34839, \"admissions_count_men\": 11451.0, \"admissions_count_women\": 23381.0, \"adm_per_100_000_all\": 751.2593767257737, \"adm_per_male\": 500.46720761937394, \"adm_per_female\": 995.2110178513129, \"year\": 2016, \"top_tier\": true, \"result\": null}, {\"region\": \"West Midlands\", \"admissions_total\": 54212, \"admissions_count_men\": 16465.0, \"admissions_count_women\": 37744.0, \"adm_per_100_000_all\": 948.8763380220552, \"adm_per_male\": 582.9794089477514, \"adm_per_female\": 1306.4732801915127, \"year\": 2016, \"top_tier\": true, \"result\": null}, {\"region\": \"London\", \"admissions_total\": 44893, \"admissions_count_men\": 15370.0, \"admissions_count_women\": 29513.0, \"adm_per_100_000_all\": 525.7598678204581, \"adm_per_male\": 363.0120696199049, \"adm_per_female\": 685.604239117052, \"year\": 2016, \"top_tier\": true, \"result\": null}, {\"region\": \"South East\", \"admissions_total\": 61957, \"admissions_count_men\": 22420.0, \"admissions_count_women\": 39532.0, \"adm_per_100_000_all\": 698.200030697046, \"adm_per_male\": 513.653515273288, \"adm_per_female\": 876.7338625258593, \"year\": 2016, \"top_tier\": true, \"result\": null}, {\"region\": \"West Sussex\", \"admissions_total\": 7897, \"admissions_count_men\": 2949.0, \"admissions_count_women\": 4945.0, \"adm_per_100_000_all\": 953.285739463398, \"adm_per_male\": 734.3785797531651, \"adm_per_female\": 1158.5300140101303, \"year\": 2016, \"top_tier\": true, \"result\": null}, {\"region\": \"South West\", \"admissions_total\": 58128, \"admissions_count_men\": 20216.0, \"admissions_count_women\": 37907.0, \"adm_per_100_000_all\": 1071.819147851411, \"adm_per_male\": 758.9941900301292, \"adm_per_female\": 1373.5525103830817, \"year\": 2016, \"top_tier\": true, \"result\": null}, {\"region\": \"North East\", \"admissions_total\": 24410, \"admissions_count_men\": 8645.0, \"admissions_count_women\": 15765.0, \"adm_per_100_000_all\": 932.0, \"adm_per_male\": 684.0, \"adm_per_female\": 1177.0, \"year\": 2019, \"top_tier\": true, \"result\": null}, {\"region\": \"North West\", \"admissions_total\": 112385, \"admissions_count_men\": 41370.0, \"admissions_count_women\": 71015.0, \"adm_per_100_000_all\": 1595.0, \"adm_per_male\": 1231.0, \"adm_per_female\": 1959.0, \"year\": 2019, \"top_tier\": true, \"result\": null}, {\"region\": \"North Yorkshire\", \"admissions_total\": 9475, \"admissions_count_men\": 3700.0, \"admissions_count_women\": 5770.0, \"adm_per_100_000_all\": 1492.0, \"adm_per_male\": 1146.0, \"adm_per_female\": 1870.0, \"year\": 2019, \"top_tier\": true, \"result\": null}, {\"region\": \"East Midlands\", \"admissions_total\": 88510, \"admissions_count_men\": 29640.0, \"admissions_count_women\": 58865.0, \"adm_per_100_000_all\": 1893.0, \"adm_per_male\": 1316.0, \"adm_per_female\": 2472.0, \"year\": 2019, \"top_tier\": true, \"result\": null}, {\"region\": \"West Midlands\", \"admissions_total\": 102675, \"admissions_count_men\": 32085.0, \"admissions_count_women\": 70590.0, \"adm_per_100_000_all\": 1817.0, \"adm_per_male\": 1202.0, \"adm_per_female\": 2440.0, \"year\": 2019, \"top_tier\": true, \"result\": null}, {\"region\": \"London\", \"admissions_total\": 75815, \"admissions_count_men\": 24150.0, \"admissions_count_women\": 51665.0, \"adm_per_100_000_all\": 1012.0, \"adm_per_male\": 757.0, \"adm_per_female\": 1266.0, \"year\": 2019, \"top_tier\": true, \"result\": null}, {\"region\": \"South East\", \"admissions_total\": 90040, \"admissions_count_men\": 33220.0, \"admissions_count_women\": 56820.0, \"adm_per_100_000_all\": 1023.0, \"adm_per_male\": 783.0, \"adm_per_female\": 1262.0, \"year\": 2019, \"top_tier\": true, \"result\": null}, {\"region\": \"West Sussex\", \"admissions_total\": 10670, \"admissions_count_men\": 3850.0, \"admissions_count_women\": 6815.0, \"adm_per_100_000_all\": 1257.0, \"adm_per_male\": 913.0, \"adm_per_female\": 1593.0, \"year\": 2019, \"top_tier\": true, \"result\": null}, {\"region\": \"South West\", \"admissions_total\": 76695, \"admissions_count_men\": 26485.0, \"admissions_count_women\": 50210.0, \"adm_per_100_000_all\": 1378.0, \"adm_per_male\": 961.0, \"adm_per_female\": 1804.0, \"year\": 2019, \"top_tier\": true, \"result\": null}, {\"region\": \"North East\", \"admissions_total\": 22376, \"admissions_count_men\": 7759.0, \"admissions_count_women\": 14616.0, \"adm_per_100_000_all\": 861.0, \"adm_per_male\": 619.0, \"adm_per_female\": 1097.0, \"year\": 2018, \"top_tier\": true, \"result\": null}, {\"region\": \"North West\", \"admissions_total\": 90253, \"admissions_count_men\": 32066.0, \"admissions_count_women\": 58185.0, \"adm_per_100_000_all\": 1290.0, \"adm_per_male\": 963.0, \"adm_per_female\": 1618.0, \"year\": 2018, \"top_tier\": true, \"result\": null}, {\"region\": \"North Yorkshire\", \"admissions_total\": 8408, \"admissions_count_men\": 3274.0, \"admissions_count_women\": 5134.0, \"adm_per_100_000_all\": 1359.0, \"adm_per_male\": 1025.0, \"adm_per_female\": 1721.0, \"year\": 2018, \"top_tier\": true, \"result\": null}, {\"region\": \"East Midlands\", \"admissions_total\": 64200, \"admissions_count_men\": 20849.0, \"admissions_count_women\": 43347.0, \"adm_per_100_000_all\": 1391.0, \"adm_per_male\": 938.0, \"adm_per_female\": 1846.0, \"year\": 2018, \"top_tier\": true, \"result\": null}, {\"region\": \"West Midlands\", \"admissions_total\": 92389, \"admissions_count_men\": 28426.0, \"admissions_count_women\": 63950.0, \"adm_per_100_000_all\": 1655.0, \"adm_per_male\": 1078.0, \"adm_per_female\": 2237.0, \"year\": 2018, \"top_tier\": true, \"result\": null}, {\"region\": \"London\", \"admissions_total\": 61904, \"admissions_count_men\": 20481.0, \"admissions_count_women\": 41417.0, \"adm_per_100_000_all\": 852.0, \"adm_per_male\": 651.0, \"adm_per_female\": 1050.0, \"year\": 2018, \"top_tier\": true, \"result\": null}, {\"region\": \"South East\", \"admissions_total\": 82787, \"admissions_count_men\": 30191.0, \"admissions_count_women\": 52590.0, \"adm_per_100_000_all\": 950.0, \"adm_per_male\": 721.0, \"adm_per_female\": 1178.0, \"year\": 2018, \"top_tier\": true, \"result\": null}, {\"region\": \"West Sussex\", \"admissions_total\": 10046, \"admissions_count_men\": 3664.0, \"admissions_count_women\": 6381.0, \"adm_per_100_000_all\": 1198.0, \"adm_per_male\": 882.0, \"adm_per_female\": 1506.0, \"year\": 2018, \"top_tier\": true, \"result\": null}, {\"region\": \"South West\", \"admissions_total\": 77250, \"admissions_count_men\": 25792.0, \"admissions_count_women\": 51458.0, \"adm_per_100_000_all\": 1405.0, \"adm_per_male\": 949.0, \"adm_per_female\": 1868.0, \"year\": 2018, \"top_tier\": true, \"result\": null}, {\"region\": \"North East\", \"admissions_total\": 24410, \"admissions_count_men\": 8645.0, \"admissions_count_women\": 15765.0, \"adm_per_100_000_all\": 932.0, \"adm_per_male\": 684.0, \"adm_per_female\": 1177.0, \"year\": 2019, \"top_tier\": true, \"result\": null}, {\"region\": \"North West\", \"admissions_total\": 112385, \"admissions_count_men\": 41370.0, \"admissions_count_women\": 71015.0, \"adm_per_100_000_all\": 1595.0, \"adm_per_male\": 1231.0, \"adm_per_female\": 1959.0, \"year\": 2019, \"top_tier\": true, \"result\": null}, {\"region\": \"North Yorkshire\", \"admissions_total\": 9475, \"admissions_count_men\": 3700.0, \"admissions_count_women\": 5770.0, \"adm_per_100_000_all\": 1492.0, \"adm_per_male\": 1146.0, \"adm_per_female\": 1870.0, \"year\": 2019, \"top_tier\": true, \"result\": null}, {\"region\": \"East Midlands\", \"admissions_total\": 88510, \"admissions_count_men\": 29640.0, \"admissions_count_women\": 58865.0, \"adm_per_100_000_all\": 1893.0, \"adm_per_male\": 1316.0, \"adm_per_female\": 2472.0, \"year\": 2019, \"top_tier\": true, \"result\": null}, {\"region\": \"West Midlands\", \"admissions_total\": 102675, \"admissions_count_men\": 32085.0, \"admissions_count_women\": 70590.0, \"adm_per_100_000_all\": 1817.0, \"adm_per_male\": 1202.0, \"adm_per_female\": 2440.0, \"year\": 2019, \"top_tier\": true, \"result\": null}, {\"region\": \"London\", \"admissions_total\": 75815, \"admissions_count_men\": 24150.0, \"admissions_count_women\": 51665.0, \"adm_per_100_000_all\": 1012.0, \"adm_per_male\": 757.0, \"adm_per_female\": 1266.0, \"year\": 2019, \"top_tier\": true, \"result\": null}, {\"region\": \"South East\", \"admissions_total\": 90040, \"admissions_count_men\": 33220.0, \"admissions_count_women\": 56820.0, \"adm_per_100_000_all\": 1023.0, \"adm_per_male\": 783.0, \"adm_per_female\": 1262.0, \"year\": 2019, \"top_tier\": true, \"result\": null}, {\"region\": \"West Sussex\", \"admissions_total\": 10670, \"admissions_count_men\": 3850.0, \"admissions_count_women\": 6815.0, \"adm_per_100_000_all\": 1257.0, \"adm_per_male\": 913.0, \"adm_per_female\": 1593.0, \"year\": 2019, \"top_tier\": true, \"result\": null}, {\"region\": \"South West\", \"admissions_total\": 76695, \"admissions_count_men\": 26485.0, \"admissions_count_women\": 50210.0, \"adm_per_100_000_all\": 1378.0, \"adm_per_male\": 961.0, \"adm_per_female\": 1804.0, \"year\": 2019, \"top_tier\": true, \"result\": null}]}}, {\"mode\": \"vega-lite\"});\n",
       "</script>"
      ],
      "text/plain": [
       "alt.HConcatChart(...)"
      ]
     },
     "execution_count": 16,
     "metadata": {},
     "output_type": "execute_result"
    }
   ],
   "source": [
    "(df_england_plot | regional)"
   ]
  },
  {
   "cell_type": "markdown",
   "metadata": {},
   "source": [
    "Sept 1, 2023: So far the numbers and the charts seem reasonable. "
   ]
  },
  {
   "cell_type": "code",
   "execution_count": null,
   "metadata": {},
   "outputs": [],
   "source": []
  },
  {
   "cell_type": "code",
   "execution_count": 17,
   "metadata": {},
   "outputs": [],
   "source": [
    "#Droppin the  boolean column as it has served its purpose it also remooves the result dropna()\n",
    "local_results = df.drop(\"top_tier\", axis=1).dropna()"
   ]
  },
  {
   "cell_type": "code",
   "execution_count": 18,
   "metadata": {},
   "outputs": [
    {
     "data": {
      "text/html": [
       "<div>\n",
       "<style scoped>\n",
       "    .dataframe tbody tr th:only-of-type {\n",
       "        vertical-align: middle;\n",
       "    }\n",
       "\n",
       "    .dataframe tbody tr th {\n",
       "        vertical-align: top;\n",
       "    }\n",
       "\n",
       "    .dataframe thead th {\n",
       "        text-align: right;\n",
       "    }\n",
       "</style>\n",
       "<table border=\"1\" class=\"dataframe\">\n",
       "  <thead>\n",
       "    <tr style=\"text-align: right;\">\n",
       "      <th></th>\n",
       "      <th>region</th>\n",
       "      <th>admissions_total</th>\n",
       "      <th>admissions_count_men</th>\n",
       "      <th>admissions_count_women</th>\n",
       "      <th>adm_per_100_000_all</th>\n",
       "      <th>adm_per_male</th>\n",
       "      <th>adm_per_female</th>\n",
       "      <th>year</th>\n",
       "      <th>result</th>\n",
       "    </tr>\n",
       "  </thead>\n",
       "  <tbody>\n",
       "    <tr>\n",
       "      <th>9</th>\n",
       "      <td>County Durham</td>\n",
       "      <td>2240</td>\n",
       "      <td>850.0</td>\n",
       "      <td>1390.0</td>\n",
       "      <td>436.652281</td>\n",
       "      <td>338.418907</td>\n",
       "      <td>530.886925</td>\n",
       "      <td>2014</td>\n",
       "      <td>North East</td>\n",
       "    </tr>\n",
       "    <tr>\n",
       "      <th>10</th>\n",
       "      <td>Darlington</td>\n",
       "      <td>283</td>\n",
       "      <td>99.0</td>\n",
       "      <td>184.0</td>\n",
       "      <td>268.033035</td>\n",
       "      <td>192.382433</td>\n",
       "      <td>339.960092</td>\n",
       "      <td>2014</td>\n",
       "      <td>North East</td>\n",
       "    </tr>\n",
       "    <tr>\n",
       "      <th>11</th>\n",
       "      <td>Gateshead</td>\n",
       "      <td>1229</td>\n",
       "      <td>396.0</td>\n",
       "      <td>833.0</td>\n",
       "      <td>613.429565</td>\n",
       "      <td>403.953851</td>\n",
       "      <td>814.128501</td>\n",
       "      <td>2014</td>\n",
       "      <td>North East</td>\n",
       "    </tr>\n",
       "    <tr>\n",
       "      <th>12</th>\n",
       "      <td>Hartlepool</td>\n",
       "      <td>484</td>\n",
       "      <td>163.0</td>\n",
       "      <td>321.0</td>\n",
       "      <td>525.584224</td>\n",
       "      <td>364.164433</td>\n",
       "      <td>678.245436</td>\n",
       "      <td>2014</td>\n",
       "      <td>North East</td>\n",
       "    </tr>\n",
       "    <tr>\n",
       "      <th>13</th>\n",
       "      <td>Middlesbrough</td>\n",
       "      <td>422</td>\n",
       "      <td>170.0</td>\n",
       "      <td>252.0</td>\n",
       "      <td>304.983811</td>\n",
       "      <td>251.141215</td>\n",
       "      <td>356.551636</td>\n",
       "      <td>2014</td>\n",
       "      <td>North East</td>\n",
       "    </tr>\n",
       "  </tbody>\n",
       "</table>\n",
       "</div>"
      ],
      "text/plain": [
       "           region  admissions_total  admissions_count_men  \\\n",
       "9   County Durham              2240                 850.0   \n",
       "10     Darlington               283                  99.0   \n",
       "11      Gateshead              1229                 396.0   \n",
       "12     Hartlepool               484                 163.0   \n",
       "13  Middlesbrough               422                 170.0   \n",
       "\n",
       "    admissions_count_women  adm_per_100_000_all  adm_per_male  adm_per_female  \\\n",
       "9                   1390.0           436.652281    338.418907      530.886925   \n",
       "10                   184.0           268.033035    192.382433      339.960092   \n",
       "11                   833.0           613.429565    403.953851      814.128501   \n",
       "12                   321.0           525.584224    364.164433      678.245436   \n",
       "13                   252.0           304.983811    251.141215      356.551636   \n",
       "\n",
       "    year      result  \n",
       "9   2014  North East  \n",
       "10  2014  North East  \n",
       "11  2014  North East  \n",
       "12  2014  North East  \n",
       "13  2014  North East  "
      ]
     },
     "execution_count": 18,
     "metadata": {},
     "output_type": "execute_result"
    }
   ],
   "source": [
    "local_results.head()"
   ]
  },
  {
   "cell_type": "code",
   "execution_count": 19,
   "metadata": {},
   "outputs": [],
   "source": [
    "#Rename the remaining columns"
   ]
  },
  {
   "cell_type": "code",
   "execution_count": 20,
   "metadata": {},
   "outputs": [],
   "source": [
    "local_results.columns = ['Region', 'Total admissions',\n",
    "                         'Admissions count: men',\n",
    "                         'Admissions count: women', \n",
    "                         'Admissions per 100,000 population', \n",
    "                         'Admissions per 100,000 population: men',\n",
    "                         'Admissions per 100,000 population: women', \n",
    "                         'Year', 'Major region']\n"
   ]
  },
  {
   "cell_type": "markdown",
   "metadata": {},
   "source": [
    "melt the wide data into long form for Altair use"
   ]
  },
  {
   "cell_type": "code",
   "execution_count": 21,
   "metadata": {},
   "outputs": [
    {
     "data": {
      "text/html": [
       "<div>\n",
       "<style scoped>\n",
       "    .dataframe tbody tr th:only-of-type {\n",
       "        vertical-align: middle;\n",
       "    }\n",
       "\n",
       "    .dataframe tbody tr th {\n",
       "        vertical-align: top;\n",
       "    }\n",
       "\n",
       "    .dataframe thead th {\n",
       "        text-align: right;\n",
       "    }\n",
       "</style>\n",
       "<table border=\"1\" class=\"dataframe\">\n",
       "  <thead>\n",
       "    <tr style=\"text-align: right;\">\n",
       "      <th></th>\n",
       "      <th>Region</th>\n",
       "      <th>Major region</th>\n",
       "      <th>Year</th>\n",
       "      <th>variable</th>\n",
       "      <th>value</th>\n",
       "    </tr>\n",
       "  </thead>\n",
       "  <tbody>\n",
       "    <tr>\n",
       "      <th>0</th>\n",
       "      <td>County Durham</td>\n",
       "      <td>North East</td>\n",
       "      <td>2014</td>\n",
       "      <td>Total admissions</td>\n",
       "      <td>2240.0</td>\n",
       "    </tr>\n",
       "    <tr>\n",
       "      <th>1</th>\n",
       "      <td>Darlington</td>\n",
       "      <td>North East</td>\n",
       "      <td>2014</td>\n",
       "      <td>Total admissions</td>\n",
       "      <td>283.0</td>\n",
       "    </tr>\n",
       "    <tr>\n",
       "      <th>2</th>\n",
       "      <td>Gateshead</td>\n",
       "      <td>North East</td>\n",
       "      <td>2014</td>\n",
       "      <td>Total admissions</td>\n",
       "      <td>1229.0</td>\n",
       "    </tr>\n",
       "    <tr>\n",
       "      <th>3</th>\n",
       "      <td>Hartlepool</td>\n",
       "      <td>North East</td>\n",
       "      <td>2014</td>\n",
       "      <td>Total admissions</td>\n",
       "      <td>484.0</td>\n",
       "    </tr>\n",
       "    <tr>\n",
       "      <th>4</th>\n",
       "      <td>Middlesbrough</td>\n",
       "      <td>North East</td>\n",
       "      <td>2014</td>\n",
       "      <td>Total admissions</td>\n",
       "      <td>422.0</td>\n",
       "    </tr>\n",
       "  </tbody>\n",
       "</table>\n",
       "</div>"
      ],
      "text/plain": [
       "          Region Major region  Year          variable   value\n",
       "0  County Durham   North East  2014  Total admissions  2240.0\n",
       "1     Darlington   North East  2014  Total admissions   283.0\n",
       "2      Gateshead   North East  2014  Total admissions  1229.0\n",
       "3     Hartlepool   North East  2014  Total admissions   484.0\n",
       "4  Middlesbrough   North East  2014  Total admissions   422.0"
      ]
     },
     "execution_count": 21,
     "metadata": {},
     "output_type": "execute_result"
    }
   ],
   "source": [
    "\n",
    "melted_df = pd.melt(local_results, id_vars=['Region', \"Major region\", \"Year\"])\n",
    "melted_df.columns\n",
    "\n",
    "\n",
    "melted_df.head()"
   ]
  },
  {
   "cell_type": "code",
   "execution_count": 22,
   "metadata": {},
   "outputs": [
    {
     "data": {
      "text/plain": [
       "3791053.0"
      ]
     },
     "execution_count": 22,
     "metadata": {},
     "output_type": "execute_result"
    }
   ],
   "source": [
    "#This tests whether on a par with expected\n",
    "\n",
    "\n",
    "melted_df.loc[melted_df['variable'] == \"Total admissions\"]['value'].sum()"
   ]
  },
  {
   "cell_type": "code",
   "execution_count": 23,
   "metadata": {},
   "outputs": [],
   "source": [
    "#This tests that England is not i the list\n",
    "melted_df[melted_df['Region'] == \"England\"]\n",
    "filtered_df = melted_df\n"
   ]
  },
  {
   "cell_type": "markdown",
   "metadata": {},
   "source": [
    "Create a plot for gender"
   ]
  },
  {
   "cell_type": "code",
   "execution_count": 24,
   "metadata": {},
   "outputs": [
    {
     "ename": "ValueError",
     "evalue": "There are inconsistent values [50, 100] for width",
     "output_type": "error",
     "traceback": [
      "\u001b[0;31m---------------------------------------------------------------------------\u001b[0m",
      "\u001b[0;31mValueError\u001b[0m                                Traceback (most recent call last)",
      "\u001b[0;32m/var/folders/v_/yq26pm194xj5ckqy8p_njwc00000gn/T/ipykernel_7521/1260250709.py\u001b[0m in \u001b[0;36m<module>\u001b[0;34m\u001b[0m\n\u001b[1;32m     27\u001b[0m ).properties(width=100)\n\u001b[1;32m     28\u001b[0m \u001b[0;31m# Overlay the men_chart on top of the women_chart\u001b[0m\u001b[0;34m\u001b[0m\u001b[0;34m\u001b[0m\u001b[0m\n\u001b[0;32m---> 29\u001b[0;31m \u001b[0moverlay_chart\u001b[0m \u001b[0;34m=\u001b[0m \u001b[0mwomen_chart\u001b[0m \u001b[0;34m+\u001b[0m \u001b[0mmen_chart\u001b[0m\u001b[0;34m\u001b[0m\u001b[0;34m\u001b[0m\u001b[0m\n\u001b[0m\u001b[1;32m     30\u001b[0m \u001b[0moverlay_chart\u001b[0m\u001b[0;34m\u001b[0m\u001b[0;34m\u001b[0m\u001b[0m\n",
      "\u001b[0;32m~/opt/anaconda3/lib/python3.9/site-packages/altair/vegalite/v5/api.py\u001b[0m in \u001b[0;36m__add__\u001b[0;34m(self, other)\u001b[0m\n\u001b[1;32m   1078\u001b[0m         \u001b[0;32mif\u001b[0m \u001b[0;32mnot\u001b[0m \u001b[0misinstance\u001b[0m\u001b[0;34m(\u001b[0m\u001b[0mother\u001b[0m\u001b[0;34m,\u001b[0m \u001b[0mTopLevelMixin\u001b[0m\u001b[0;34m)\u001b[0m\u001b[0;34m:\u001b[0m\u001b[0;34m\u001b[0m\u001b[0;34m\u001b[0m\u001b[0m\n\u001b[1;32m   1079\u001b[0m             \u001b[0;32mraise\u001b[0m \u001b[0mValueError\u001b[0m\u001b[0;34m(\u001b[0m\u001b[0;34m\"Only Chart objects can be layered.\"\u001b[0m\u001b[0;34m)\u001b[0m\u001b[0;34m\u001b[0m\u001b[0;34m\u001b[0m\u001b[0m\n\u001b[0;32m-> 1080\u001b[0;31m         \u001b[0;32mreturn\u001b[0m \u001b[0mlayer\u001b[0m\u001b[0;34m(\u001b[0m\u001b[0mself\u001b[0m\u001b[0;34m,\u001b[0m \u001b[0mother\u001b[0m\u001b[0;34m)\u001b[0m\u001b[0;34m\u001b[0m\u001b[0;34m\u001b[0m\u001b[0m\n\u001b[0m\u001b[1;32m   1081\u001b[0m \u001b[0;34m\u001b[0m\u001b[0m\n\u001b[1;32m   1082\u001b[0m     \u001b[0;32mdef\u001b[0m \u001b[0m__and__\u001b[0m\u001b[0;34m(\u001b[0m\u001b[0mself\u001b[0m\u001b[0;34m,\u001b[0m \u001b[0mother\u001b[0m\u001b[0;34m)\u001b[0m\u001b[0;34m:\u001b[0m\u001b[0;34m\u001b[0m\u001b[0;34m\u001b[0m\u001b[0m\n",
      "\u001b[0;32m~/opt/anaconda3/lib/python3.9/site-packages/altair/vegalite/v5/api.py\u001b[0m in \u001b[0;36mlayer\u001b[0;34m(*charts, **kwargs)\u001b[0m\n\u001b[1;32m   3391\u001b[0m \u001b[0;32mdef\u001b[0m \u001b[0mlayer\u001b[0m\u001b[0;34m(\u001b[0m\u001b[0;34m*\u001b[0m\u001b[0mcharts\u001b[0m\u001b[0;34m,\u001b[0m \u001b[0;34m**\u001b[0m\u001b[0mkwargs\u001b[0m\u001b[0;34m)\u001b[0m\u001b[0;34m:\u001b[0m\u001b[0;34m\u001b[0m\u001b[0;34m\u001b[0m\u001b[0m\n\u001b[1;32m   3392\u001b[0m     \u001b[0;34m\"\"\"layer multiple charts\"\"\"\u001b[0m\u001b[0;34m\u001b[0m\u001b[0;34m\u001b[0m\u001b[0m\n\u001b[0;32m-> 3393\u001b[0;31m     \u001b[0;32mreturn\u001b[0m \u001b[0mLayerChart\u001b[0m\u001b[0;34m(\u001b[0m\u001b[0mlayer\u001b[0m\u001b[0;34m=\u001b[0m\u001b[0mcharts\u001b[0m\u001b[0;34m,\u001b[0m \u001b[0;34m**\u001b[0m\u001b[0mkwargs\u001b[0m\u001b[0;34m)\u001b[0m\u001b[0;34m\u001b[0m\u001b[0;34m\u001b[0m\u001b[0m\n\u001b[0m\u001b[1;32m   3394\u001b[0m \u001b[0;34m\u001b[0m\u001b[0m\n\u001b[1;32m   3395\u001b[0m \u001b[0;34m\u001b[0m\u001b[0m\n",
      "\u001b[0;32m~/opt/anaconda3/lib/python3.9/site-packages/altair/vegalite/v5/api.py\u001b[0m in \u001b[0;36m__init__\u001b[0;34m(self, data, layer, **kwargs)\u001b[0m\n\u001b[1;32m   3294\u001b[0m         \u001b[0;31m# Some properties are not allowed within layer; we'll move to parent.\u001b[0m\u001b[0;34m\u001b[0m\u001b[0;34m\u001b[0m\u001b[0m\n\u001b[1;32m   3295\u001b[0m         \u001b[0mlayer_props\u001b[0m \u001b[0;34m=\u001b[0m \u001b[0;34m(\u001b[0m\u001b[0;34m\"height\"\u001b[0m\u001b[0;34m,\u001b[0m \u001b[0;34m\"width\"\u001b[0m\u001b[0;34m,\u001b[0m \u001b[0;34m\"view\"\u001b[0m\u001b[0;34m)\u001b[0m\u001b[0;34m\u001b[0m\u001b[0;34m\u001b[0m\u001b[0m\n\u001b[0;32m-> 3296\u001b[0;31m         \u001b[0mcombined_dict\u001b[0m\u001b[0;34m,\u001b[0m \u001b[0mself\u001b[0m\u001b[0;34m.\u001b[0m\u001b[0mlayer\u001b[0m \u001b[0;34m=\u001b[0m \u001b[0m_remove_layer_props\u001b[0m\u001b[0;34m(\u001b[0m\u001b[0mself\u001b[0m\u001b[0;34m,\u001b[0m \u001b[0mself\u001b[0m\u001b[0;34m.\u001b[0m\u001b[0mlayer\u001b[0m\u001b[0;34m,\u001b[0m \u001b[0mlayer_props\u001b[0m\u001b[0;34m)\u001b[0m\u001b[0;34m\u001b[0m\u001b[0;34m\u001b[0m\u001b[0m\n\u001b[0m\u001b[1;32m   3297\u001b[0m \u001b[0;34m\u001b[0m\u001b[0m\n\u001b[1;32m   3298\u001b[0m         \u001b[0;32mfor\u001b[0m \u001b[0mprop\u001b[0m \u001b[0;32min\u001b[0m \u001b[0mcombined_dict\u001b[0m\u001b[0;34m:\u001b[0m\u001b[0;34m\u001b[0m\u001b[0;34m\u001b[0m\u001b[0m\n",
      "\u001b[0;32m~/opt/anaconda3/lib/python3.9/site-packages/altair/vegalite/v5/api.py\u001b[0m in \u001b[0;36m_remove_layer_props\u001b[0;34m(chart, subcharts, layer_props)\u001b[0m\n\u001b[1;32m   3753\u001b[0m                 \u001b[0moutput_dict\u001b[0m\u001b[0;34m[\u001b[0m\u001b[0mprop\u001b[0m\u001b[0;34m]\u001b[0m \u001b[0;34m=\u001b[0m \u001b[0mvalues\u001b[0m\u001b[0;34m[\u001b[0m\u001b[0;36m0\u001b[0m\u001b[0;34m]\u001b[0m\u001b[0;34m\u001b[0m\u001b[0;34m\u001b[0m\u001b[0m\n\u001b[1;32m   3754\u001b[0m             \u001b[0;32melse\u001b[0m\u001b[0;34m:\u001b[0m\u001b[0;34m\u001b[0m\u001b[0;34m\u001b[0m\u001b[0m\n\u001b[0;32m-> 3755\u001b[0;31m                 \u001b[0;32mraise\u001b[0m \u001b[0mValueError\u001b[0m\u001b[0;34m(\u001b[0m\u001b[0;34mf\"There are inconsistent values {values} for {prop}\"\u001b[0m\u001b[0;34m)\u001b[0m\u001b[0;34m\u001b[0m\u001b[0;34m\u001b[0m\u001b[0m\n\u001b[0m\u001b[1;32m   3756\u001b[0m         \u001b[0;32melse\u001b[0m\u001b[0;34m:\u001b[0m\u001b[0;34m\u001b[0m\u001b[0;34m\u001b[0m\u001b[0m\n\u001b[1;32m   3757\u001b[0m             \u001b[0;31m# Top level has this prop; subchart must either not have the prop\u001b[0m\u001b[0;34m\u001b[0m\u001b[0;34m\u001b[0m\u001b[0m\n",
      "\u001b[0;31mValueError\u001b[0m: There are inconsistent values [50, 100] for width"
     ]
    }
   ],
   "source": [
    "women_df = melted_df[melted_df['variable'] == 'Admissions count: women']\n",
    "men_df = melted_df[melted_df['variable'] == 'Admissions count: men']\n",
    "\n",
    "# Create separate charts for women and men\n",
    "women_chart = alt.Chart(women_df).mark_bar(opacity=0.7).encode(\n",
    "    x=alt.X(\"Year:O\", title=\"Year\"),\n",
    "    y=alt.Y(\"value:Q\", title=\"Admissions count\", stack=None),\n",
    "    color=alt.Color(\"variable:N\", title=\"Gender\"),\n",
    "    tooltip=[\n",
    "        alt.Tooltip(\"variable:N\", title=\"Gender\"),\n",
    "        alt.Tooltip(\"value:Q\", title=\"Admissions count\",format=\n",
    "\",\")\n",
    "    ]\n",
    ").properties(\n",
    "    title=\"Admissions for men and women\",\n",
    "    width=50\n",
    ")\n",
    "\n",
    "men_chart = alt.Chart(men_df).mark_bar(opacity=1).encode(\n",
    "    x=alt.X(\"Year:O\", title=\"Year\"),\n",
    "    y=alt.Y(\"value:Q\", title=\"Admissions count\", stack=None),\n",
    "    color=alt.Color(\"variable:N\", title=\"Gender\"),\n",
    "    tooltip=[\n",
    "        alt.Tooltip(\"variable:N\", title=\"Gender\"),\n",
    "        alt.Tooltip(\"value:Q\", title=\"Admissions count\",format=\n",
    "\",\")]\n",
    ").properties(width=100)\n",
    "# Overlay the men_chart on top of the women_chart\n",
    "overlay_chart = women_chart + men_chart\n",
    "overlay_chart\n"
   ]
  },
  {
   "cell_type": "code",
   "execution_count": 36,
   "metadata": {},
   "outputs": [
    {
     "name": "stderr",
     "output_type": "stream",
     "text": [
      "/Users/davidelks/opt/anaconda3/lib/python3.9/site-packages/altair/utils/deprecation.py:65: AltairDeprecationWarning: 'selection_single' is deprecated.  Use 'selection_point'\n",
      "  warnings.warn(message, AltairDeprecationWarning, stacklevel=1)\n",
      "/Users/davidelks/opt/anaconda3/lib/python3.9/site-packages/altair/vegalite/v5/api.py:388: AltairDeprecationWarning: Use 'value' instead of 'init'.\n",
      "  warnings.warn(\n"
     ]
    },
    {
     "ename": "TypeError",
     "evalue": "altair.vegalite.v5.schema.core.SelectionParameter() got multiple values for keyword argument 'value'",
     "output_type": "error",
     "traceback": [
      "\u001b[0;31m---------------------------------------------------------------------------\u001b[0m",
      "\u001b[0;31mTypeError\u001b[0m                                 Traceback (most recent call last)",
      "\u001b[0;32m/var/folders/v_/yq26pm194xj5ckqy8p_njwc00000gn/T/ipykernel_30389/29963988.py\u001b[0m in \u001b[0;36m<module>\u001b[0;34m\u001b[0m\n\u001b[1;32m      1\u001b[0m \u001b[0;31m# Create dropdown for Major region\u001b[0m\u001b[0;34m\u001b[0m\u001b[0;34m\u001b[0m\u001b[0m\n\u001b[1;32m      2\u001b[0m \u001b[0mmajor_region_dropdown\u001b[0m \u001b[0;34m=\u001b[0m \u001b[0malt\u001b[0m\u001b[0;34m.\u001b[0m\u001b[0mbinding_select\u001b[0m\u001b[0;34m(\u001b[0m\u001b[0moptions\u001b[0m\u001b[0;34m=\u001b[0m\u001b[0mmelted_df\u001b[0m\u001b[0;34m[\u001b[0m\u001b[0;34m'Major region'\u001b[0m\u001b[0;34m]\u001b[0m\u001b[0;34m.\u001b[0m\u001b[0munique\u001b[0m\u001b[0;34m(\u001b[0m\u001b[0;34m)\u001b[0m\u001b[0;34m.\u001b[0m\u001b[0mtolist\u001b[0m\u001b[0;34m(\u001b[0m\u001b[0;34m)\u001b[0m\u001b[0;34m,\u001b[0m \u001b[0mname\u001b[0m\u001b[0;34m=\u001b[0m\u001b[0;34m\"Major region: \"\u001b[0m\u001b[0;34m)\u001b[0m\u001b[0;34m\u001b[0m\u001b[0;34m\u001b[0m\u001b[0m\n\u001b[0;32m----> 3\u001b[0;31m \u001b[0mmajor_region_selection\u001b[0m \u001b[0;34m=\u001b[0m \u001b[0malt\u001b[0m\u001b[0;34m.\u001b[0m\u001b[0mselection_single\u001b[0m\u001b[0;34m(\u001b[0m\u001b[0mfields\u001b[0m\u001b[0;34m=\u001b[0m\u001b[0;34m[\u001b[0m\u001b[0;34m'Major region'\u001b[0m\u001b[0;34m]\u001b[0m\u001b[0;34m,\u001b[0m \u001b[0mbind\u001b[0m\u001b[0;34m=\u001b[0m\u001b[0mmajor_region_dropdown\u001b[0m\u001b[0;34m,\u001b[0m \u001b[0minit\u001b[0m\u001b[0;34m=\u001b[0m\u001b[0;34m{\u001b[0m\u001b[0;34m\"Major region\"\u001b[0m\u001b[0;34m:\u001b[0m \u001b[0;34m\"West Midlands\"\u001b[0m\u001b[0;34m}\u001b[0m\u001b[0;34m)\u001b[0m\u001b[0;34m\u001b[0m\u001b[0;34m\u001b[0m\u001b[0m\n\u001b[0m\u001b[1;32m      4\u001b[0m \u001b[0;34m\u001b[0m\u001b[0m\n\u001b[1;32m      5\u001b[0m \u001b[0;31m# Create dropdown for variable\u001b[0m\u001b[0;34m\u001b[0m\u001b[0;34m\u001b[0m\u001b[0m\n",
      "\u001b[0;32m~/opt/anaconda3/lib/python3.9/site-packages/altair/utils/deprecation.py\u001b[0m in \u001b[0;36mnew_obj\u001b[0;34m(*args, **kwargs)\u001b[0m\n\u001b[1;32m     64\u001b[0m         \u001b[0;32mdef\u001b[0m \u001b[0mnew_obj\u001b[0m\u001b[0;34m(\u001b[0m\u001b[0;34m*\u001b[0m\u001b[0margs\u001b[0m\u001b[0;34m,\u001b[0m \u001b[0;34m**\u001b[0m\u001b[0mkwargs\u001b[0m\u001b[0;34m)\u001b[0m\u001b[0;34m:\u001b[0m\u001b[0;34m\u001b[0m\u001b[0;34m\u001b[0m\u001b[0m\n\u001b[1;32m     65\u001b[0m             \u001b[0mwarnings\u001b[0m\u001b[0;34m.\u001b[0m\u001b[0mwarn\u001b[0m\u001b[0;34m(\u001b[0m\u001b[0mmessage\u001b[0m\u001b[0;34m,\u001b[0m \u001b[0mAltairDeprecationWarning\u001b[0m\u001b[0;34m,\u001b[0m \u001b[0mstacklevel\u001b[0m\u001b[0;34m=\u001b[0m\u001b[0;36m1\u001b[0m\u001b[0;34m)\u001b[0m\u001b[0;34m\u001b[0m\u001b[0;34m\u001b[0m\u001b[0m\n\u001b[0;32m---> 66\u001b[0;31m             \u001b[0;32mreturn\u001b[0m \u001b[0mobj\u001b[0m\u001b[0;34m(\u001b[0m\u001b[0;34m*\u001b[0m\u001b[0margs\u001b[0m\u001b[0;34m,\u001b[0m \u001b[0;34m**\u001b[0m\u001b[0mkwargs\u001b[0m\u001b[0;34m)\u001b[0m\u001b[0;34m\u001b[0m\u001b[0;34m\u001b[0m\u001b[0m\n\u001b[0m\u001b[1;32m     67\u001b[0m \u001b[0;34m\u001b[0m\u001b[0m\n\u001b[1;32m     68\u001b[0m         \u001b[0mnew_obj\u001b[0m\u001b[0;34m.\u001b[0m\u001b[0m_deprecated\u001b[0m \u001b[0;34m=\u001b[0m \u001b[0;32mTrue\u001b[0m\u001b[0;34m\u001b[0m\u001b[0;34m\u001b[0m\u001b[0m\n",
      "\u001b[0;32m~/opt/anaconda3/lib/python3.9/site-packages/altair/vegalite/v5/api.py\u001b[0m in \u001b[0;36mselection_single\u001b[0;34m(**kwargs)\u001b[0m\n\u001b[1;32m    712\u001b[0m \u001b[0;32mdef\u001b[0m \u001b[0mselection_single\u001b[0m\u001b[0;34m(\u001b[0m\u001b[0;34m**\u001b[0m\u001b[0mkwargs\u001b[0m\u001b[0;34m)\u001b[0m\u001b[0;34m:\u001b[0m\u001b[0;34m\u001b[0m\u001b[0;34m\u001b[0m\u001b[0m\n\u001b[1;32m    713\u001b[0m     \u001b[0;34m\"\"\"'selection_single' is deprecated.  Use 'selection_point'\"\"\"\u001b[0m\u001b[0;34m\u001b[0m\u001b[0;34m\u001b[0m\u001b[0m\n\u001b[0;32m--> 714\u001b[0;31m     \u001b[0;32mreturn\u001b[0m \u001b[0m_selection\u001b[0m\u001b[0;34m(\u001b[0m\u001b[0mtype\u001b[0m\u001b[0;34m=\u001b[0m\u001b[0;34m\"point\"\u001b[0m\u001b[0;34m,\u001b[0m \u001b[0;34m**\u001b[0m\u001b[0mkwargs\u001b[0m\u001b[0;34m)\u001b[0m\u001b[0;34m\u001b[0m\u001b[0;34m\u001b[0m\u001b[0m\n\u001b[0m\u001b[1;32m    715\u001b[0m \u001b[0;34m\u001b[0m\u001b[0m\n\u001b[1;32m    716\u001b[0m \u001b[0;34m\u001b[0m\u001b[0m\n",
      "\u001b[0;32m~/opt/anaconda3/lib/python3.9/site-packages/altair/vegalite/v5/api.py\u001b[0m in \u001b[0;36m_selection\u001b[0;34m(type, **kwds)\u001b[0m\n\u001b[1;32m    439\u001b[0m         \u001b[0;32mraise\u001b[0m \u001b[0mValueError\u001b[0m\u001b[0;34m(\u001b[0m\u001b[0;34m\"\"\"'type' must be 'point' or 'interval'\"\"\"\u001b[0m\u001b[0;34m)\u001b[0m\u001b[0;34m\u001b[0m\u001b[0;34m\u001b[0m\u001b[0m\n\u001b[1;32m    440\u001b[0m \u001b[0;34m\u001b[0m\u001b[0m\n\u001b[0;32m--> 441\u001b[0;31m     \u001b[0;32mreturn\u001b[0m \u001b[0mparam\u001b[0m\u001b[0;34m(\u001b[0m\u001b[0mselect\u001b[0m\u001b[0;34m=\u001b[0m\u001b[0mselect\u001b[0m\u001b[0;34m,\u001b[0m \u001b[0;34m**\u001b[0m\u001b[0mparam_kwds\u001b[0m\u001b[0;34m)\u001b[0m\u001b[0;34m\u001b[0m\u001b[0;34m\u001b[0m\u001b[0m\n\u001b[0m\u001b[1;32m    442\u001b[0m \u001b[0;34m\u001b[0m\u001b[0m\n\u001b[1;32m    443\u001b[0m \u001b[0;34m\u001b[0m\u001b[0m\n",
      "\u001b[0;32m~/opt/anaconda3/lib/python3.9/site-packages/altair/vegalite/v5/api.py\u001b[0m in \u001b[0;36mparam\u001b[0;34m(name, value, bind, empty, expr, **kwds)\u001b[0m\n\u001b[1;32m    408\u001b[0m         \u001b[0mparameter\u001b[0m\u001b[0;34m.\u001b[0m\u001b[0mparam_type\u001b[0m \u001b[0;34m=\u001b[0m \u001b[0;34m\"selection\"\u001b[0m\u001b[0;34m\u001b[0m\u001b[0;34m\u001b[0m\u001b[0m\n\u001b[1;32m    409\u001b[0m     \u001b[0;32melse\u001b[0m\u001b[0;34m:\u001b[0m\u001b[0;34m\u001b[0m\u001b[0;34m\u001b[0m\u001b[0m\n\u001b[0;32m--> 410\u001b[0;31m         parameter.param = core.SelectionParameter(\n\u001b[0m\u001b[1;32m    411\u001b[0m             \u001b[0mname\u001b[0m\u001b[0;34m=\u001b[0m\u001b[0mparameter\u001b[0m\u001b[0;34m.\u001b[0m\u001b[0mname\u001b[0m\u001b[0;34m,\u001b[0m \u001b[0mbind\u001b[0m\u001b[0;34m=\u001b[0m\u001b[0mbind\u001b[0m\u001b[0;34m,\u001b[0m \u001b[0mvalue\u001b[0m\u001b[0;34m=\u001b[0m\u001b[0mvalue\u001b[0m\u001b[0;34m,\u001b[0m \u001b[0mexpr\u001b[0m\u001b[0;34m=\u001b[0m\u001b[0mexpr\u001b[0m\u001b[0;34m,\u001b[0m \u001b[0;34m**\u001b[0m\u001b[0mkwds\u001b[0m\u001b[0;34m\u001b[0m\u001b[0;34m\u001b[0m\u001b[0m\n\u001b[1;32m    412\u001b[0m         )\n",
      "\u001b[0;31mTypeError\u001b[0m: altair.vegalite.v5.schema.core.SelectionParameter() got multiple values for keyword argument 'value'"
     ]
    }
   ],
   "source": [
    "# Create dropdown for Major region\n",
    "major_region_dropdown = alt.binding_select(options=melted_df['Major region'].unique().tolist(), name=\"Major region: \")\n",
    "major_region_selection = alt.selection_single(fields=['Major region'], bind=major_region_dropdown, init={\"Major region\": \"West Midlands\"})\n",
    "\n",
    "# Create dropdown for variable\n",
    "variable_dropdown = alt.binding_select(options=melted_df['variable'].unique().tolist(), name=\"Category: \")\n",
    "variable_selection = alt.selection_single(fields=['variable'], bind=variable_dropdown, init={\"variable\": \"Total admissions\"})\n",
    "\n",
    "# Sort the data\n",
    "sorted_data = melted_df.sort_values(by='Year')\n",
    "\n",
    "# Main chart\n",
    "main_chart = alt.Chart(sorted_data).mark_line(point=True).encode(\n",
    "    x='Year:O',\n",
    "    y='mean(value):Q',\n",
    "    color=alt.Color('Region:N', legend=None),  # Set legend to None\n",
    "    tooltip=[\"Major region\", \"Region\", \"mean(value):Q\"]\n",
    ").add_selection(\n",
    "    major_region_selection\n",
    ").transform_filter(\n",
    "    major_region_selection\n",
    ").add_selection(\n",
    "    variable_selection\n",
    ").transform_filter(\n",
    "    variable_selection\n",
    ").properties(\n",
    "    width=450, \n",
    "    height=600\n",
    ")\n",
    "\n",
    "# Secondary chart for Region selection\n",
    "region_chart = alt.Chart(sorted_data).mark_bar().encode(\n",
    "    y='Region:N',\n",
    "    color=alt.Color('Region:N', legend=None),  # Set legend to None\n",
    "    tooltip=alt.Tooltip([\"Major region\", \"Region\"])  # Corrected tooltip placement\n",
    ").add_selection(\n",
    "    major_region_selection\n",
    ").transform_filter(\n",
    "    major_region_selection\n",
    ").add_selection(\n",
    "    variable_selection\n",
    ").transform_filter(\n",
    "    variable_selection\n",
    ").properties(\n",
    "    selection=alt.selection_multi(fields=['Region']),\n",
    "    width=30,  \n",
    "    height=600,\n",
    "    title=\"Region\"\n",
    "    \n",
    ").interactive()\n",
    "((df_england_plot | overlay_chart| regional)&(main_chart | region_chart))"
   ]
  },
  {
   "cell_type": "markdown",
   "metadata": {},
   "source": [
    "Now let's put in the data from the Food Standards Agency\n"
   ]
  },
  {
   "cell_type": "code",
   "execution_count": 37,
   "metadata": {},
   "outputs": [],
   "source": [
    "from bs4 import BeautifulSoup\n",
    "import requests\n",
    "base_url = \"https://ratings.food.gov.uk/open-data\"\n",
    "data = requests.get(base_url)\n",
    "soup = BeautifulSoup(data.text, 'html.parser')\n"
   ]
  },
  {
   "cell_type": "code",
   "execution_count": 38,
   "metadata": {},
   "outputs": [
    {
     "name": "stderr",
     "output_type": "stream",
     "text": [
      "100%|██████████| 516/516 [00:00<00:00, 249972.38it/s]"
     ]
    },
    {
     "name": "stdout",
     "output_type": "stream",
     "text": [
      "['/api/open-data-files/FHRS297en-GB.xml', '/api/open-data-files/FHRS109en-GB.xml', '/api/open-data-files/FHRS701en-GB.xml', '/api/open-data-files/FHRS110en-GB.xml', '/api/open-data-files/FHRS227en-GB.xml', '/api/open-data-files/FHRS111en-GB.xml', '/api/open-data-files/FHRS228en-GB.xml', '/api/open-data-files/FHRS155en-GB.xml', '/api/open-data-files/FHRS027en-GB.xml', '/api/open-data-files/FHRS112en-GB.xml', '/api/open-data-files/FHRS702en-GB.xml', '/api/open-data-files/FHRS113en-GB.xml', '/api/open-data-files/FHRS114en-GB.xml', '/api/open-data-files/FHRS156en-GB.xml', '/api/open-data-files/FHRS028en-GB.xml', '/api/open-data-files/FHRS157en-GB.xml', '/api/open-data-files/FHRS302en-GB.xml', '/api/open-data-files/FHRS115en-GB.xml', '/api/open-data-files/FHRS029en-GB.xml', '/api/open-data-files/FHRS229en-GB.xml', '/api/open-data-files/FHRS116en-GB.xml', '/api/open-data-files/FHRS158en-GB.xml', '/api/open-data-files/FHRS030en-GB.xml', '/api/open-data-files/FHRS299en-GB.xml', '/api/open-data-files/FHRS230en-GB.xml', '/api/open-data-files/FHRS869en-GB.xml', '/api/open-data-files/FHRS117en-GB.xml', '/api/open-data-files/FHRS300en-GB.xml', '/api/open-data-files/FHRS159en-GB.xml', '/api/open-data-files/FHRS231en-GB.xml', '/api/open-data-files/FHRS232en-GB.xml', '/api/open-data-files/FHRS888en-GB.xml', '/api/open-data-files/FHRS118en-GB.xml', '/api/open-data-files/FHRS032en-GB.xml', '/api/open-data-files/FHRS233en-GB.xml', '/api/open-data-files/FHRS893en-GB.xml', '/api/open-data-files/FHRS160en-GB.xml', '/api/open-data-files/FHRS161en-GB.xml', '/api/open-data-files/FHRS120en-GB.xml', '/api/open-data-files/FHRS162en-GB.xml', '/api/open-data-files/FHRS894en-GB.xml', '/api/open-data-files/FHRS122en-GB.xml', '/api/open-data-files/FHRS163en-GB.xml', '/api/open-data-files/FHRS164en-GB.xml', '/api/open-data-files/FHRS298en-GB.xml', '/api/open-data-files/FHRS062en-GB.xml', '/api/open-data-files/FHRS259en-GB.xml', '/api/open-data-files/FHRS260en-GB.xml', '/api/open-data-files/FHRS209en-GB.xml', '/api/open-data-files/FHRS063en-GB.xml', '/api/open-data-files/FHRS219en-GB.xml', '/api/open-data-files/FHRS261en-GB.xml', '/api/open-data-files/FHRS210en-GB.xml', '/api/open-data-files/FHRS064en-GB.xml', '/api/open-data-files/FHRS871en-GB.xml', '/api/open-data-files/FHRS070en-GB.xml', '/api/open-data-files/FHRS220en-GB.xml', '/api/open-data-files/FHRS066en-GB.xml', '/api/open-data-files/FHRS262en-GB.xml', '/api/open-data-files/FHRS211en-GB.xml', '/api/open-data-files/FHRS067en-GB.xml', '/api/open-data-files/FHRS212en-GB.xml', '/api/open-data-files/FHRS878en-GB.xml', '/api/open-data-files/FHRS221en-GB.xml', '/api/open-data-files/FHRS263en-GB.xml', '/api/open-data-files/FHRS214en-GB.xml', '/api/open-data-files/FHRS264en-GB.xml', '/api/open-data-files/FHRS068en-GB.xml', '/api/open-data-files/FHRS222en-GB.xml', '/api/open-data-files/FHRS235en-GB.xml', '/api/open-data-files/FHRS215en-GB.xml', '/api/open-data-files/FHRS899en-GB.xml', '/api/open-data-files/FHRS216en-GB.xml', '/api/open-data-files/FHRS266en-GB.xml', '/api/open-data-files/FHRS879en-GB.xml', '/api/open-data-files/FHRS069en-GB.xml', '/api/open-data-files/FHRS223en-GB.xml', '/api/open-data-files/FHRS224en-GB.xml', '/api/open-data-files/FHRS225en-GB.xml', '/api/open-data-files/FHRS236en-GB.xml', '/api/open-data-files/FHRS501en-GB.xml', '/api/open-data-files/FHRS502en-GB.xml', '/api/open-data-files/FHRS503en-GB.xml', '/api/open-data-files/FHRS504en-GB.xml', '/api/open-data-files/FHRS505en-GB.xml', '/api/open-data-files/FHRS506en-GB.xml', '/api/open-data-files/FHRS508en-GB.xml', '/api/open-data-files/FHRS507en-GB.xml', '/api/open-data-files/FHRS509en-GB.xml', '/api/open-data-files/FHRS510en-GB.xml', '/api/open-data-files/FHRS511en-GB.xml', '/api/open-data-files/FHRS512en-GB.xml', '/api/open-data-files/FHRS513en-GB.xml', '/api/open-data-files/FHRS514en-GB.xml', '/api/open-data-files/FHRS515en-GB.xml', '/api/open-data-files/FHRS516en-GB.xml', '/api/open-data-files/FHRS517en-GB.xml', '/api/open-data-files/FHRS518en-GB.xml', '/api/open-data-files/FHRS519en-GB.xml', '/api/open-data-files/FHRS520en-GB.xml', '/api/open-data-files/FHRS521en-GB.xml', '/api/open-data-files/FHRS522en-GB.xml', '/api/open-data-files/FHRS523en-GB.xml', '/api/open-data-files/FHRS524en-GB.xml', '/api/open-data-files/FHRS525en-GB.xml', '/api/open-data-files/FHRS526en-GB.xml', '/api/open-data-files/FHRS527en-GB.xml', '/api/open-data-files/FHRS528en-GB.xml', '/api/open-data-files/FHRS529en-GB.xml', '/api/open-data-files/FHRS530en-GB.xml', '/api/open-data-files/FHRS531en-GB.xml', '/api/open-data-files/FHRS532en-GB.xml', '/api/open-data-files/FHRS533en-GB.xml', '/api/open-data-files/FHRS874en-GB.xml', '/api/open-data-files/FHRS706en-GB.xml', '/api/open-data-files/FHRS410en-GB.xml', '/api/open-data-files/FHRS859en-GB.xml', '/api/open-data-files/FHRS861en-GB.xml', '/api/open-data-files/FHRS416en-GB.xml', '/api/open-data-files/FHRS417en-GB.xml', '/api/open-data-files/FHRS707en-GB.xml', '/api/open-data-files/FHRS860en-GB.xml', '/api/open-data-files/FHRS648en-GB.xml', '/api/open-data-files/FHRS427en-GB.xml', '/api/open-data-files/FHRS862en-GB.xml', '/api/open-data-files/FHRS429en-GB.xml', '/api/open-data-files/FHRS897en-GB.xml', '/api/open-data-files/FHRS898en-GB.xml', '/api/open-data-files/FHRS403en-GB.xml', '/api/open-data-files/FHRS196en-GB.xml', '/api/open-data-files/FHRS405en-GB.xml', '/api/open-data-files/FHRS703en-GB.xml', '/api/open-data-files/FHRS704en-GB.xml', '/api/open-data-files/FHRS197en-GB.xml', '/api/open-data-files/FHRS055en-GB.xml', '/api/open-data-files/FHRS198en-GB.xml', '/api/open-data-files/FHRS889en-GB.xml', '/api/open-data-files/FHRS199en-GB.xml', '/api/open-data-files/FHRS412en-GB.xml', '/api/open-data-files/FHRS200en-GB.xml', '/api/open-data-files/FHRS414en-GB.xml', '/api/open-data-files/FHRS415en-GB.xml', '/api/open-data-files/FHRS418en-GB.xml', '/api/open-data-files/FHRS201en-GB.xml', '/api/open-data-files/FHRS202en-GB.xml', '/api/open-data-files/FHRS203en-GB.xml', '/api/open-data-files/FHRS419en-GB.xml', '/api/open-data-files/FHRS204en-GB.xml', '/api/open-data-files/FHRS422en-GB.xml', '/api/open-data-files/FHRS424en-GB.xml', '/api/open-data-files/FHRS205en-GB.xml', '/api/open-data-files/FHRS421en-GB.xml', '/api/open-data-files/FHRS428en-GB.xml', '/api/open-data-files/FHRS430en-GB.xml', '/api/open-data-files/FHRS431en-GB.xml', '/api/open-data-files/FHRS890en-GB.xml', '/api/open-data-files/FHRS206en-GB.xml', '/api/open-data-files/FHRS056en-GB.xml', '/api/open-data-files/FHRS434en-GB.xml', '/api/open-data-files/FHRS435en-GB.xml', '/api/open-data-files/FHRS207en-GB.xml', '/api/open-data-files/FHRS323en-GB.xml', '/api/open-data-files/FHRS324en-GB.xml', '/api/open-data-files/FHRS179en-GB.xml', '/api/open-data-files/FHRS131en-GB.xml', '/api/open-data-files/FHRS882en-GB.xml', '/api/open-data-files/FHRS875en-GB.xml', '/api/open-data-files/FHRS021en-GB.xml', '/api/open-data-files/FHRS180en-GB.xml', '/api/open-data-files/FHRS268en-GB.xml', '/api/open-data-files/FHRS325en-GB.xml', '/api/open-data-files/FHRS326en-GB.xml', '/api/open-data-files/FHRS181en-GB.xml', '/api/open-data-files/FHRS182en-GB.xml', '/api/open-data-files/FHRS132en-GB.xml', '/api/open-data-files/FHRS102en-GB.xml', '/api/open-data-files/FHRS133en-GB.xml', '/api/open-data-files/FHRS305en-GB.xml', '/api/open-data-files/FHRS306en-GB.xml', '/api/open-data-files/FHRS134en-GB.xml', '/api/open-data-files/FHRS188en-GB.xml', '/api/open-data-files/FHRS135en-GB.xml', '/api/open-data-files/FHRS184en-GB.xml', '/api/open-data-files/FHRS307en-GB.xml', '/api/open-data-files/FHRS136en-GB.xml', '/api/open-data-files/FHRS103en-GB.xml', '/api/open-data-files/FHRS137en-GB.xml', '/api/open-data-files/FHRS327en-GB.xml', '/api/open-data-files/FHRS867en-GB.xml', '/api/open-data-files/FHRS105en-GB.xml', '/api/open-data-files/FHRS185en-GB.xml', '/api/open-data-files/FHRS896en-GB.xml', '/api/open-data-files/FHRS328en-GB.xml', '/api/open-data-files/FHRS870en-GB.xml', '/api/open-data-files/FHRS308en-GB.xml', '/api/open-data-files/FHRS138en-GB.xml', '/api/open-data-files/FHRS269en-GB.xml', '/api/open-data-files/FHRS876en-GB.xml', '/api/open-data-files/FHRS884en-GB.xml', '/api/open-data-files/FHRS309en-GB.xml', '/api/open-data-files/FHRS106en-GB.xml', '/api/open-data-files/FHRS310en-GB.xml', '/api/open-data-files/FHRS140en-GB.xml', '/api/open-data-files/FHRS187en-GB.xml', '/api/open-data-files/FHRS885en-GB.xml', '/api/open-data-files/FHRS270en-GB.xml', '/api/open-data-files/FHRS877en-GB.xml', '/api/open-data-files/FHRS311en-GB.xml', '/api/open-data-files/FHRS312en-GB.xml', '/api/open-data-files/FHRS189en-GB.xml', '/api/open-data-files/FHRS313en-GB.xml', '/api/open-data-files/FHRS142en-GB.xml', '/api/open-data-files/FHRS190en-GB.xml', '/api/open-data-files/FHRS191en-GB.xml', '/api/open-data-files/FHRS192en-GB.xml', '/api/open-data-files/FHRS271en-GB.xml', '/api/open-data-files/FHRS314en-GB.xml', '/api/open-data-files/FHRS107en-GB.xml', '/api/open-data-files/FHRS883en-GB.xml', '/api/open-data-files/FHRS272en-GB.xml', '/api/open-data-files/FHRS143en-GB.xml', '/api/open-data-files/FHRS886en-GB.xml', '/api/open-data-files/FHRS315en-GB.xml', '/api/open-data-files/FHRS887en-GB.xml', '/api/open-data-files/FHRS329en-GB.xml', '/api/open-data-files/FHRS857en-GB.xml', '/api/open-data-files/FHRS872en-GB.xml', '/api/open-data-files/FHRS855en-GB.xml', '/api/open-data-files/FHRS124en-GB.xml', '/api/open-data-files/FHRS705en-GB.xml', '/api/open-data-files/FHRS125en-GB.xml', '/api/open-data-files/FHRS085en-GB.xml', '/api/open-data-files/FHRS072en-GB.xml', '/api/open-data-files/FHRS073en-GB.xml', '/api/open-data-files/FHRS126en-GB.xml', '/api/open-data-files/FHRS127en-GB.xml', '/api/open-data-files/FHRS336en-GB.xml', '/api/open-data-files/FHRS074en-GB.xml', '/api/open-data-files/FHRS075en-GB.xml', '/api/open-data-files/FHRS858en-GB.xml', '/api/open-data-files/FHRS891en-GB.xml', '/api/open-data-files/FHRS281en-GB.xml', '/api/open-data-files/FHRS856en-GB.xml', '/api/open-data-files/FHRS077en-GB.xml', '/api/open-data-files/FHRS128en-GB.xml', '/api/open-data-files/FHRS881en-GB.xml', '/api/open-data-files/FHRS078en-GB.xml', '/api/open-data-files/FHRS129en-GB.xml', '/api/open-data-files/FHRS892en-GB.xml', '/api/open-data-files/FHRS080en-GB.xml', '/api/open-data-files/FHRS081en-GB.xml', '/api/open-data-files/FHRS709en-GB.xml', '/api/open-data-files/FHRS402en-GB.xml', '/api/open-data-files/FHRS145en-GB.xml', '/api/open-data-files/FHRS287en-GB.xml', '/api/open-data-files/FHRS407en-GB.xml', '/api/open-data-files/FHRS409en-GB.xml', '/api/open-data-files/FHRS288en-GB.xml', '/api/open-data-files/FHRS895en-GB.xml', '/api/open-data-files/FHRS289en-GB.xml', '/api/open-data-files/FHRS148en-GB.xml', '/api/open-data-files/FHRS290en-GB.xml', '/api/open-data-files/FHRS317en-GB.xml', '/api/open-data-files/FHRS318en-GB.xml', '/api/open-data-files/FHRS149en-GB.xml', '/api/open-data-files/FHRS319en-GB.xml', '/api/open-data-files/FHRS423en-GB.xml', '/api/open-data-files/FHRS708en-GB.xml', '/api/open-data-files/FHRS426en-GB.xml', '/api/open-data-files/FHRS291en-GB.xml', '/api/open-data-files/FHRS292en-GB.xml', '/api/open-data-files/FHRS293en-GB.xml', '/api/open-data-files/FHRS880en-GB.xml', '/api/open-data-files/FHRS320en-GB.xml', '/api/open-data-files/FHRS295en-GB.xml', '/api/open-data-files/FHRS900en-GB.xml', '/api/open-data-files/FHRS433en-GB.xml', '/api/open-data-files/FHRS321en-GB.xml', '/api/open-data-files/FHRS436en-GB.xml', '/api/open-data-files/FHRS151en-GB.xml', '/api/open-data-files/FHRS152en-GB.xml', '/api/open-data-files/FHRS153en-GB.xml', '/api/open-data-files/FHRS401en-GB.xml', '/api/open-data-files/FHRS404en-GB.xml', '/api/open-data-files/FHRS406en-GB.xml', '/api/open-data-files/FHRS408en-GB.xml', '/api/open-data-files/FHRS863en-GB.xml', '/api/open-data-files/FHRS626en-GB.xml', '/api/open-data-files/FHRS866en-GB.xml', '/api/open-data-files/FHRS411en-GB.xml', '/api/open-data-files/FHRS413en-GB.xml', '/api/open-data-files/FHRS865en-GB.xml', '/api/open-data-files/FHRS864en-GB.xml', '/api/open-data-files/FHRS250en-GB.xml', '/api/open-data-files/FHRS420en-GB.xml', '/api/open-data-files/FHRS425en-GB.xml', '/api/open-data-files/FHRS432en-GB.xml', '/api/open-data-files/FHRS868en-GB.xml', '/api/open-data-files/FHRS801en-GB.xml', '/api/open-data-files/FHRS802en-GB.xml', '/api/open-data-files/FHRS803en-GB.xml', '/api/open-data-files/FHRS807en-GB.xml', '/api/open-data-files/FHRS805en-GB.xml', '/api/open-data-files/FHRS813en-GB.xml', '/api/open-data-files/FHRS816en-GB.xml', '/api/open-data-files/FHRS809en-GB.xml', '/api/open-data-files/FHRS804en-GB.xml', '/api/open-data-files/FHRS811en-GB.xml', '/api/open-data-files/FHRS814en-GB.xml', '/api/open-data-files/FHRS760en-GB.xml', '/api/open-data-files/FHRS761en-GB.xml', '/api/open-data-files/FHRS762en-GB.xml', '/api/open-data-files/FHRS763en-GB.xml', '/api/open-data-files/FHRS768en-GB.xml', '/api/open-data-files/FHRS791en-GB.xml', '/api/open-data-files/FHRS770en-GB.xml', '/api/open-data-files/FHRS772en-GB.xml', '/api/open-data-files/FHRS764en-GB.xml', '/api/open-data-files/FHRS771en-GB.xml', '/api/open-data-files/FHRS781en-GB.xml', '/api/open-data-files/FHRS787en-GB.xml', '/api/open-data-files/FHRS773en-GB.xml', '/api/open-data-files/FHRS774en-GB.xml', '/api/open-data-files/FHRS775en-GB.xml', '/api/open-data-files/FHRS776en-GB.xml', '/api/open-data-files/FHRS777en-GB.xml', '/api/open-data-files/FHRS778en-GB.xml', '/api/open-data-files/FHRS783en-GB.xml', '/api/open-data-files/FHRS784en-GB.xml', '/api/open-data-files/FHRS765en-GB.xml', '/api/open-data-files/FHRS779en-GB.xml', '/api/open-data-files/FHRS785en-GB.xml', '/api/open-data-files/FHRS786en-GB.xml', '/api/open-data-files/FHRS788en-GB.xml', '/api/open-data-files/FHRS767en-GB.xml', '/api/open-data-files/FHRS789en-GB.xml', '/api/open-data-files/FHRS766en-GB.xml', '/api/open-data-files/FHRS780en-GB.xml', '/api/open-data-files/FHRS790en-GB.xml', '/api/open-data-files/FHRS769en-GB.xml', '/api/open-data-files/FHRS782en-GB.xml', '/api/open-data-files/FHRS551en-GB.xml', '/api/open-data-files/FHRS551cy-GB.xml', '/api/open-data-files/FHRS552en-GB.xml', '/api/open-data-files/FHRS552cy-GB.xml', '/api/open-data-files/FHRS553en-GB.xml', '/api/open-data-files/FHRS553cy-GB.xml', '/api/open-data-files/FHRS555en-GB.xml', '/api/open-data-files/FHRS555cy-GB.xml', '/api/open-data-files/FHRS556en-GB.xml', '/api/open-data-files/FHRS556cy-GB.xml', '/api/open-data-files/FHRS558en-GB.xml', '/api/open-data-files/FHRS558cy-GB.xml', '/api/open-data-files/FHRS557en-GB.xml', '/api/open-data-files/FHRS557cy-GB.xml', '/api/open-data-files/FHRS550en-GB.xml', '/api/open-data-files/FHRS550cy-GB.xml', '/api/open-data-files/FHRS559en-GB.xml', '/api/open-data-files/FHRS559cy-GB.xml', '/api/open-data-files/FHRS560en-GB.xml', '/api/open-data-files/FHRS560cy-GB.xml', '/api/open-data-files/FHRS554en-GB.xml', '/api/open-data-files/FHRS554cy-GB.xml', '/api/open-data-files/FHRS561en-GB.xml', '/api/open-data-files/FHRS561cy-GB.xml', '/api/open-data-files/FHRS562en-GB.xml', '/api/open-data-files/FHRS562cy-GB.xml', '/api/open-data-files/FHRS563en-GB.xml', '/api/open-data-files/FHRS563cy-GB.xml', '/api/open-data-files/FHRS564en-GB.xml', '/api/open-data-files/FHRS564cy-GB.xml', '/api/open-data-files/FHRS565en-GB.xml', '/api/open-data-files/FHRS565cy-GB.xml', '/api/open-data-files/FHRS566en-GB.xml', '/api/open-data-files/FHRS566cy-GB.xml', '/api/open-data-files/FHRS567en-GB.xml', '/api/open-data-files/FHRS567cy-GB.xml', '/api/open-data-files/FHRS568en-GB.xml', '/api/open-data-files/FHRS568cy-GB.xml', '/api/open-data-files/FHRS569en-GB.xml', '/api/open-data-files/FHRS569cy-GB.xml', '/api/open-data-files/FHRS570en-GB.xml', '/api/open-data-files/FHRS570cy-GB.xml', '/api/open-data-files/FHRS571en-GB.xml', '/api/open-data-files/FHRS571cy-GB.xml']\n"
     ]
    },
    {
     "name": "stderr",
     "output_type": "stream",
     "text": [
      "\n"
     ]
    }
   ],
   "source": [
    "# Find all links in the HTML\n",
    "links = soup.find_all('a')\n",
    "\n",
    "# Initialize an empty list to store the XML URLs\n",
    "xml_urls = []\n",
    "\n",
    "# Loop through all links and filter those ending with .xml\n",
    "for link in tqdm(links):\n",
    "    url = link.get('href')\n",
    "    if url and \"FHRS\" in url and url.endswith('.xml'):\n",
    "        xml_urls.append(url)\n",
    "\n",
    "# Print the list of XML URLs\n",
    "print(xml_urls)\n"
   ]
  },
  {
   "cell_type": "code",
   "execution_count": 39,
   "metadata": {},
   "outputs": [],
   "source": [
    "json_urls = [\"https://ratings.food.gov.uk\"+xml.replace(\"xml\", \"json\")for xml in xml_urls]"
   ]
  },
  {
   "cell_type": "code",
   "execution_count": null,
   "metadata": {},
   "outputs": [],
   "source": []
  },
  {
   "cell_type": "code",
   "execution_count": 40,
   "metadata": {},
   "outputs": [
    {
     "name": "stdout",
     "output_type": "stream",
     "text": [
      "385\n"
     ]
    },
    {
     "name": "stderr",
     "output_type": "stream",
     "text": [
      "100%|██████████| 385/385 [03:45<00:00,  1.71it/s]\n"
     ]
    }
   ],
   "source": [
    "js_len = len(json_urls)\n",
    "print(js_len)\n",
    "\n",
    "def fetch_data(url, js_len):\n",
    "    json = pd.read_json(url, orient=\"records\")  # Removed quotes around url\n",
    "    df = pd.DataFrame(json['FHRSEstablishment'][0])\n",
    "    js_len = js_len - 1\n",
    "    return df\n",
    "\n",
    "results = [fetch_data(j, js_len) for j in tqdm(json_urls)]\n"
   ]
  },
  {
   "cell_type": "markdown",
   "metadata": {},
   "source": [
    "I don't want to wait four minutes"
   ]
  },
  {
   "cell_type": "code",
   "execution_count": 41,
   "metadata": {},
   "outputs": [],
   "source": [
    "fs =pd.concat(results)\n",
    "    "
   ]
  },
  {
   "cell_type": "code",
   "execution_count": 42,
   "metadata": {},
   "outputs": [
    {
     "name": "stdout",
     "output_type": "stream",
     "text": [
      "<class 'pandas.core.frame.DataFrame'>\n",
      "Int64Index: 628676 entries, 0 to 1047\n",
      "Data columns (total 22 columns):\n",
      " #   Column                      Non-Null Count   Dtype \n",
      "---  ------                      --------------   ----- \n",
      " 0   FHRSID                      628676 non-null  int64 \n",
      " 1   LocalAuthorityBusinessID    628676 non-null  object\n",
      " 2   BusinessName                628676 non-null  object\n",
      " 3   BusinessType                628676 non-null  object\n",
      " 4   BusinessTypeID              628676 non-null  int64 \n",
      " 5   AddressLine1                420371 non-null  object\n",
      " 6   AddressLine2                461429 non-null  object\n",
      " 7   AddressLine3                416029 non-null  object\n",
      " 8   AddressLine4                272331 non-null  object\n",
      " 9   PostCode                    524495 non-null  object\n",
      " 10  RatingValue                 628676 non-null  object\n",
      " 11  RatingKey                   628676 non-null  object\n",
      " 12  RatingDate                  580819 non-null  object\n",
      " 13  LocalAuthorityCode          628676 non-null  object\n",
      " 14  LocalAuthorityName          628676 non-null  object\n",
      " 15  LocalAuthorityWebSite       628676 non-null  object\n",
      " 16  LocalAuthorityEmailAddress  626952 non-null  object\n",
      " 17  Scores                      497099 non-null  object\n",
      " 18  SchemeType                  628676 non-null  object\n",
      " 19  NewRatingPending            628676 non-null  bool  \n",
      " 20  Geocode                     487259 non-null  object\n",
      " 21  RightToReply                73 non-null      object\n",
      "dtypes: bool(1), int64(2), object(19)\n",
      "memory usage: 106.1+ MB\n"
     ]
    }
   ],
   "source": [
    "fs.info()"
   ]
  },
  {
   "cell_type": "code",
   "execution_count": 43,
   "metadata": {},
   "outputs": [
    {
     "data": {
      "text/plain": [
       "(628676, 22)"
      ]
     },
     "execution_count": 43,
     "metadata": {},
     "output_type": "execute_result"
    }
   ],
   "source": [
    "fs.shape"
   ]
  },
  {
   "cell_type": "code",
   "execution_count": 44,
   "metadata": {},
   "outputs": [
    {
     "data": {
      "text/plain": [
       "Index(['FHRSID', 'LocalAuthorityBusinessID', 'BusinessName', 'BusinessType',\n",
       "       'BusinessTypeID', 'AddressLine1', 'AddressLine2', 'AddressLine3',\n",
       "       'AddressLine4', 'PostCode', 'RatingValue', 'RatingKey', 'RatingDate',\n",
       "       'LocalAuthorityCode', 'LocalAuthorityName', 'LocalAuthorityWebSite',\n",
       "       'LocalAuthorityEmailAddress', 'Scores', 'SchemeType',\n",
       "       'NewRatingPending', 'Geocode', 'RightToReply'],\n",
       "      dtype='object')"
      ]
     },
     "execution_count": 44,
     "metadata": {},
     "output_type": "execute_result"
    }
   ],
   "source": [
    "fs.columns"
   ]
  },
  {
   "cell_type": "code",
   "execution_count": 45,
   "metadata": {},
   "outputs": [
    {
     "data": {
      "text/plain": [
       "array(['Hospitals/Childcare/Caring Premises', 'Other catering premises',\n",
       "       'Restaurant/Cafe/Canteen', 'Retailers - other',\n",
       "       'School/college/university',\n",
       "       'Retailers - supermarkets/hypermarkets', 'Mobile caterer',\n",
       "       'Pub/bar/nightclub', 'Hotel/bed & breakfast/guest house',\n",
       "       'Manufacturers/packers', 'Takeaway/sandwich shop',\n",
       "       'Farmers/growers', 'Distributors/Transporters',\n",
       "       'Importers/Exporters'], dtype=object)"
      ]
     },
     "execution_count": 45,
     "metadata": {},
     "output_type": "execute_result"
    }
   ],
   "source": [
    "fs.BusinessType.unique()\n"
   ]
  },
  {
   "cell_type": "code",
   "execution_count": 46,
   "metadata": {},
   "outputs": [
    {
     "name": "stdout",
     "output_type": "stream",
     "text": [
      "<class 'pandas.core.frame.DataFrame'>\n",
      "Int64Index: 134995 entries, 2 to 1021\n",
      "Data columns (total 23 columns):\n",
      " #   Column                      Non-Null Count   Dtype         \n",
      "---  ------                      --------------   -----         \n",
      " 0   FHRSID                      134995 non-null  int64         \n",
      " 1   LocalAuthorityBusinessID    134995 non-null  object        \n",
      " 2   BusinessName                134995 non-null  object        \n",
      " 3   BusinessType                134995 non-null  object        \n",
      " 4   BusinessTypeID              134995 non-null  int64         \n",
      " 5   AddressLine1                88891 non-null   object        \n",
      " 6   AddressLine2                96178 non-null   object        \n",
      " 7   AddressLine3                88050 non-null   object        \n",
      " 8   AddressLine4                55716 non-null   object        \n",
      " 9   PostCode                    110405 non-null  object        \n",
      " 10  RatingValue                 134995 non-null  int64         \n",
      " 11  RatingKey                   134995 non-null  object        \n",
      " 12  RatingDate                  134995 non-null  datetime64[ns]\n",
      " 13  LocalAuthorityCode          134995 non-null  object        \n",
      " 14  LocalAuthorityName          134995 non-null  object        \n",
      " 15  LocalAuthorityWebSite       134995 non-null  object        \n",
      " 16  LocalAuthorityEmailAddress  134506 non-null  object        \n",
      " 17  Scores                      103863 non-null  object        \n",
      " 18  SchemeType                  134995 non-null  object        \n",
      " 19  NewRatingPending            134995 non-null  bool          \n",
      " 20  Geocode                     105862 non-null  object        \n",
      " 21  RightToReply                3 non-null       object        \n",
      " 22  Year                        134995 non-null  int64         \n",
      "dtypes: bool(1), datetime64[ns](1), int64(4), object(17)\n",
      "memory usage: 23.8+ MB\n"
     ]
    }
   ],
   "source": [
    "# Convert 'RatingDate' to datetime format\n",
    "fs['RatingDate'] = pd.to_datetime(fs['RatingDate'])\n",
    "\n",
    "# Convert 'RatingValue' to integer (assuming 'df' should be 'fs')\n",
    "fs['RatingValue'] = pd.to_numeric(fs['RatingValue'], errors='coerce').fillna(0).astype(int)\n",
    "\n",
    "# Extract the year from 'RatingDate' and fill NA values with 0\n",
    "fs['Year'] = fs['RatingDate'].dt.year.fillna(0).astype(int)\n",
    "\n",
    "# Filter the DataFrame based on the year range\n",
    "ffs = fs.loc[(fs['Year'] >= 2013) & (fs['Year'] <= 2019)]\n",
    "\n",
    "# Display information about the filtered DataFrame\n",
    "ffs.info()\n"
   ]
  },
  {
   "cell_type": "code",
   "execution_count": 47,
   "metadata": {},
   "outputs": [],
   "source": [
    "numbers_df_ct = pd.DataFrame(ffs['RatingValue'].value_counts()).reset_index()\n",
    "numbers_df_per = pd.DataFrame(ffs['RatingValue'].value_counts(normalize=True)).reset_index()\n",
    "numbers_df_ct.columns = numbers_df_per.columns = [\"Rating\", \"Numbers\"]\n",
    "percentage_df = pd.DataFrame(ffs['RatingValue'].value_counts()).reset_index()\n",
    "percentage_per = pd.DataFrame(ffs['RatingValue'].value_counts(normalize=True)).reset_index()\n",
    "percentage_df.columns = percentage_per =[\"Rating\", \"Percentage\"]"
   ]
  },
  {
   "cell_type": "code",
   "execution_count": null,
   "metadata": {},
   "outputs": [
    {
     "data": {
      "text/plain": [
       "Index(['FHRSID', 'LocalAuthorityBusinessID', 'BusinessName', 'BusinessType',\n",
       "       'BusinessTypeID', 'AddressLine1', 'AddressLine2', 'AddressLine3',\n",
       "       'AddressLine4', 'PostCode', 'RatingValue', 'RatingKey', 'RatingDate',\n",
       "       'LocalAuthorityCode', 'LocalAuthorityName', 'LocalAuthorityWebSite',\n",
       "       'LocalAuthorityEmailAddress', 'Scores', 'SchemeType',\n",
       "       'NewRatingPending', 'Geocode', 'RightToReply', 'Year'],\n",
       "      dtype='object')"
      ]
     },
     "execution_count": 36,
     "metadata": {},
     "output_type": "execute_result"
    }
   ],
   "source": []
  },
  {
   "cell_type": "code",
   "execution_count": null,
   "metadata": {},
   "outputs": [],
   "source": []
  },
  {
   "cell_type": "code",
   "execution_count": null,
   "metadata": {},
   "outputs": [],
   "source": []
  },
  {
   "cell_type": "code",
   "execution_count": null,
   "metadata": {},
   "outputs": [
    {
     "ename": "TypeError",
     "evalue": "unhashable type: 'dict'",
     "output_type": "error",
     "traceback": [
      "\u001b[0;31m---------------------------------------------------------------------------\u001b[0m",
      "\u001b[0;31mTypeError\u001b[0m                                 Traceback (most recent call last)",
      "Cell \u001b[0;32mIn[41], line 1\u001b[0m\n\u001b[0;32m----> 1\u001b[0m ffs\u001b[39m.\u001b[39;49mvalue_counts()\n",
      "File \u001b[0;32m~/Dropbox/Personal/islington_news/myenv/lib/python3.9/site-packages/pandas/core/frame.py:7215\u001b[0m, in \u001b[0;36mDataFrame.value_counts\u001b[0;34m(self, subset, normalize, sort, ascending, dropna)\u001b[0m\n\u001b[1;32m   7212\u001b[0m \u001b[39mif\u001b[39;00m subset \u001b[39mis\u001b[39;00m \u001b[39mNone\u001b[39;00m:\n\u001b[1;32m   7213\u001b[0m     subset \u001b[39m=\u001b[39m \u001b[39mself\u001b[39m\u001b[39m.\u001b[39mcolumns\u001b[39m.\u001b[39mtolist()\n\u001b[0;32m-> 7215\u001b[0m counts \u001b[39m=\u001b[39m \u001b[39mself\u001b[39;49m\u001b[39m.\u001b[39;49mgroupby(subset, dropna\u001b[39m=\u001b[39;49mdropna)\u001b[39m.\u001b[39;49mgrouper\u001b[39m.\u001b[39;49msize()\n\u001b[1;32m   7217\u001b[0m \u001b[39mif\u001b[39;00m sort:\n\u001b[1;32m   7218\u001b[0m     counts \u001b[39m=\u001b[39m counts\u001b[39m.\u001b[39msort_values(ascending\u001b[39m=\u001b[39mascending)\n",
      "File \u001b[0;32m~/Dropbox/Personal/islington_news/myenv/lib/python3.9/site-packages/pandas/core/groupby/ops.py:912\u001b[0m, in \u001b[0;36mBaseGrouper.size\u001b[0;34m(self)\u001b[0m\n\u001b[1;32m    907\u001b[0m \u001b[39m@final\u001b[39m\n\u001b[1;32m    908\u001b[0m \u001b[39mdef\u001b[39;00m \u001b[39msize\u001b[39m(\u001b[39mself\u001b[39m) \u001b[39m-\u001b[39m\u001b[39m>\u001b[39m Series:\n\u001b[1;32m    909\u001b[0m \u001b[39m    \u001b[39m\u001b[39m\"\"\"\u001b[39;00m\n\u001b[1;32m    910\u001b[0m \u001b[39m    Compute group sizes.\u001b[39;00m\n\u001b[1;32m    911\u001b[0m \u001b[39m    \"\"\"\u001b[39;00m\n\u001b[0;32m--> 912\u001b[0m     ids, _, ngroups \u001b[39m=\u001b[39m \u001b[39mself\u001b[39;49m\u001b[39m.\u001b[39;49mgroup_info\n\u001b[1;32m    913\u001b[0m     out: np\u001b[39m.\u001b[39mndarray \u001b[39m|\u001b[39m \u001b[39mlist\u001b[39m\n\u001b[1;32m    914\u001b[0m     \u001b[39mif\u001b[39;00m ngroups:\n",
      "File \u001b[0;32m~/Dropbox/Personal/islington_news/myenv/lib/python3.9/site-packages/pandas/_libs/properties.pyx:36\u001b[0m, in \u001b[0;36mpandas._libs.properties.CachedProperty.__get__\u001b[0;34m()\u001b[0m\n",
      "File \u001b[0;32m~/Dropbox/Personal/islington_news/myenv/lib/python3.9/site-packages/pandas/core/groupby/ops.py:946\u001b[0m, in \u001b[0;36mBaseGrouper.group_info\u001b[0;34m(self)\u001b[0m\n\u001b[1;32m    944\u001b[0m \u001b[39m@cache_readonly\u001b[39m\n\u001b[1;32m    945\u001b[0m \u001b[39mdef\u001b[39;00m \u001b[39mgroup_info\u001b[39m(\u001b[39mself\u001b[39m) \u001b[39m-\u001b[39m\u001b[39m>\u001b[39m \u001b[39mtuple\u001b[39m[npt\u001b[39m.\u001b[39mNDArray[np\u001b[39m.\u001b[39mintp], npt\u001b[39m.\u001b[39mNDArray[np\u001b[39m.\u001b[39mintp], \u001b[39mint\u001b[39m]:\n\u001b[0;32m--> 946\u001b[0m     comp_ids, obs_group_ids \u001b[39m=\u001b[39m \u001b[39mself\u001b[39;49m\u001b[39m.\u001b[39;49m_get_compressed_codes()\n\u001b[1;32m    948\u001b[0m     ngroups \u001b[39m=\u001b[39m \u001b[39mlen\u001b[39m(obs_group_ids)\n\u001b[1;32m    949\u001b[0m     comp_ids \u001b[39m=\u001b[39m ensure_platform_int(comp_ids)\n",
      "File \u001b[0;32m~/Dropbox/Personal/islington_news/myenv/lib/python3.9/site-packages/pandas/core/groupby/ops.py:972\u001b[0m, in \u001b[0;36mBaseGrouper._get_compressed_codes\u001b[0;34m(self)\u001b[0m\n\u001b[1;32m    966\u001b[0m \u001b[39m@final\u001b[39m\n\u001b[1;32m    967\u001b[0m \u001b[39mdef\u001b[39;00m \u001b[39m_get_compressed_codes\u001b[39m(\n\u001b[1;32m    968\u001b[0m     \u001b[39mself\u001b[39m,\n\u001b[1;32m    969\u001b[0m ) \u001b[39m-\u001b[39m\u001b[39m>\u001b[39m \u001b[39mtuple\u001b[39m[npt\u001b[39m.\u001b[39mNDArray[np\u001b[39m.\u001b[39msignedinteger], npt\u001b[39m.\u001b[39mNDArray[np\u001b[39m.\u001b[39mintp]]:\n\u001b[1;32m    970\u001b[0m     \u001b[39m# The first returned ndarray may have any signed integer dtype\u001b[39;00m\n\u001b[1;32m    971\u001b[0m     \u001b[39mif\u001b[39;00m \u001b[39mlen\u001b[39m(\u001b[39mself\u001b[39m\u001b[39m.\u001b[39mgroupings) \u001b[39m>\u001b[39m \u001b[39m1\u001b[39m:\n\u001b[0;32m--> 972\u001b[0m         group_index \u001b[39m=\u001b[39m get_group_index(\u001b[39mself\u001b[39;49m\u001b[39m.\u001b[39;49mcodes, \u001b[39mself\u001b[39m\u001b[39m.\u001b[39mshape, sort\u001b[39m=\u001b[39m\u001b[39mTrue\u001b[39;00m, xnull\u001b[39m=\u001b[39m\u001b[39mTrue\u001b[39;00m)\n\u001b[1;32m    973\u001b[0m         \u001b[39mreturn\u001b[39;00m compress_group_index(group_index, sort\u001b[39m=\u001b[39m\u001b[39mself\u001b[39m\u001b[39m.\u001b[39m_sort)\n\u001b[1;32m    974\u001b[0m         \u001b[39m# FIXME: compress_group_index's second return value is int64, not intp\u001b[39;00m\n",
      "File \u001b[0;32m~/Dropbox/Personal/islington_news/myenv/lib/python3.9/site-packages/pandas/core/groupby/ops.py:897\u001b[0m, in \u001b[0;36mBaseGrouper.codes\u001b[0;34m(self)\u001b[0m\n\u001b[1;32m    894\u001b[0m \u001b[39m@final\u001b[39m\n\u001b[1;32m    895\u001b[0m \u001b[39m@property\u001b[39m\n\u001b[1;32m    896\u001b[0m \u001b[39mdef\u001b[39;00m \u001b[39mcodes\u001b[39m(\u001b[39mself\u001b[39m) \u001b[39m-\u001b[39m\u001b[39m>\u001b[39m \u001b[39mlist\u001b[39m[npt\u001b[39m.\u001b[39mNDArray[np\u001b[39m.\u001b[39msignedinteger]]:\n\u001b[0;32m--> 897\u001b[0m     \u001b[39mreturn\u001b[39;00m [ping\u001b[39m.\u001b[39mcodes \u001b[39mfor\u001b[39;00m ping \u001b[39min\u001b[39;00m \u001b[39mself\u001b[39m\u001b[39m.\u001b[39mgroupings]\n",
      "File \u001b[0;32m~/Dropbox/Personal/islington_news/myenv/lib/python3.9/site-packages/pandas/core/groupby/ops.py:897\u001b[0m, in \u001b[0;36m<listcomp>\u001b[0;34m(.0)\u001b[0m\n\u001b[1;32m    894\u001b[0m \u001b[39m@final\u001b[39m\n\u001b[1;32m    895\u001b[0m \u001b[39m@property\u001b[39m\n\u001b[1;32m    896\u001b[0m \u001b[39mdef\u001b[39;00m \u001b[39mcodes\u001b[39m(\u001b[39mself\u001b[39m) \u001b[39m-\u001b[39m\u001b[39m>\u001b[39m \u001b[39mlist\u001b[39m[npt\u001b[39m.\u001b[39mNDArray[np\u001b[39m.\u001b[39msignedinteger]]:\n\u001b[0;32m--> 897\u001b[0m     \u001b[39mreturn\u001b[39;00m [ping\u001b[39m.\u001b[39;49mcodes \u001b[39mfor\u001b[39;00m ping \u001b[39min\u001b[39;00m \u001b[39mself\u001b[39m\u001b[39m.\u001b[39mgroupings]\n",
      "File \u001b[0;32m~/Dropbox/Personal/islington_news/myenv/lib/python3.9/site-packages/pandas/core/groupby/grouper.py:621\u001b[0m, in \u001b[0;36mGrouping.codes\u001b[0;34m(self)\u001b[0m\n\u001b[1;32m    617\u001b[0m \u001b[39mif\u001b[39;00m \u001b[39mself\u001b[39m\u001b[39m.\u001b[39m_codes \u001b[39mis\u001b[39;00m \u001b[39mnot\u001b[39;00m \u001b[39mNone\u001b[39;00m:\n\u001b[1;32m    618\u001b[0m     \u001b[39m# _codes is set in __init__ for MultiIndex cases\u001b[39;00m\n\u001b[1;32m    619\u001b[0m     \u001b[39mreturn\u001b[39;00m \u001b[39mself\u001b[39m\u001b[39m.\u001b[39m_codes\n\u001b[0;32m--> 621\u001b[0m \u001b[39mreturn\u001b[39;00m \u001b[39mself\u001b[39;49m\u001b[39m.\u001b[39;49m_codes_and_uniques[\u001b[39m0\u001b[39m]\n",
      "File \u001b[0;32m~/Dropbox/Personal/islington_news/myenv/lib/python3.9/site-packages/pandas/_libs/properties.pyx:36\u001b[0m, in \u001b[0;36mpandas._libs.properties.CachedProperty.__get__\u001b[0;34m()\u001b[0m\n",
      "File \u001b[0;32m~/Dropbox/Personal/islington_news/myenv/lib/python3.9/site-packages/pandas/core/groupby/grouper.py:692\u001b[0m, in \u001b[0;36mGrouping._codes_and_uniques\u001b[0;34m(self)\u001b[0m\n\u001b[1;32m    685\u001b[0m     uniques \u001b[39m=\u001b[39m (\n\u001b[1;32m    686\u001b[0m         \u001b[39mself\u001b[39m\u001b[39m.\u001b[39mgrouping_vector\u001b[39m.\u001b[39mresult_index\u001b[39m.\u001b[39m_values  \u001b[39m# type: ignore[assignment]\u001b[39;00m\n\u001b[1;32m    687\u001b[0m     )\n\u001b[1;32m    688\u001b[0m \u001b[39melse\u001b[39;00m:\n\u001b[1;32m    689\u001b[0m     \u001b[39m# GH35667, replace dropna=False with use_na_sentinel=False\u001b[39;00m\n\u001b[1;32m    690\u001b[0m     \u001b[39m# error: Incompatible types in assignment (expression has type \"Union[\u001b[39;00m\n\u001b[1;32m    691\u001b[0m     \u001b[39m# ndarray[Any, Any], Index]\", variable has type \"Categorical\")\u001b[39;00m\n\u001b[0;32m--> 692\u001b[0m     codes, uniques \u001b[39m=\u001b[39m algorithms\u001b[39m.\u001b[39;49mfactorize(  \u001b[39m# type: ignore[assignment]\u001b[39;49;00m\n\u001b[1;32m    693\u001b[0m         \u001b[39mself\u001b[39;49m\u001b[39m.\u001b[39;49mgrouping_vector, sort\u001b[39m=\u001b[39;49m\u001b[39mself\u001b[39;49m\u001b[39m.\u001b[39;49m_sort, use_na_sentinel\u001b[39m=\u001b[39;49m\u001b[39mself\u001b[39;49m\u001b[39m.\u001b[39;49m_dropna\n\u001b[1;32m    694\u001b[0m     )\n\u001b[1;32m    695\u001b[0m \u001b[39mreturn\u001b[39;00m codes, uniques\n",
      "File \u001b[0;32m~/Dropbox/Personal/islington_news/myenv/lib/python3.9/site-packages/pandas/core/algorithms.py:818\u001b[0m, in \u001b[0;36mfactorize\u001b[0;34m(values, sort, na_sentinel, use_na_sentinel, size_hint)\u001b[0m\n\u001b[1;32m    815\u001b[0m             \u001b[39m# Don't modify (potentially user-provided) array\u001b[39;00m\n\u001b[1;32m    816\u001b[0m             values \u001b[39m=\u001b[39m np\u001b[39m.\u001b[39mwhere(null_mask, na_value, values)\n\u001b[0;32m--> 818\u001b[0m     codes, uniques \u001b[39m=\u001b[39m factorize_array(\n\u001b[1;32m    819\u001b[0m         values,\n\u001b[1;32m    820\u001b[0m         na_sentinel\u001b[39m=\u001b[39;49mna_sentinel_arg,\n\u001b[1;32m    821\u001b[0m         size_hint\u001b[39m=\u001b[39;49msize_hint,\n\u001b[1;32m    822\u001b[0m     )\n\u001b[1;32m    824\u001b[0m \u001b[39mif\u001b[39;00m sort \u001b[39mand\u001b[39;00m \u001b[39mlen\u001b[39m(uniques) \u001b[39m>\u001b[39m \u001b[39m0\u001b[39m:\n\u001b[1;32m    825\u001b[0m     \u001b[39mif\u001b[39;00m na_sentinel \u001b[39mis\u001b[39;00m \u001b[39mNone\u001b[39;00m:\n\u001b[1;32m    826\u001b[0m         \u001b[39m# TODO: Can remove when na_sentinel=na_sentinel as in TODO above\u001b[39;00m\n",
      "File \u001b[0;32m~/Dropbox/Personal/islington_news/myenv/lib/python3.9/site-packages/pandas/core/algorithms.py:574\u001b[0m, in \u001b[0;36mfactorize_array\u001b[0;34m(values, na_sentinel, size_hint, na_value, mask)\u001b[0m\n\u001b[1;32m    571\u001b[0m hash_klass, values \u001b[39m=\u001b[39m _get_hashtable_algo(values)\n\u001b[1;32m    573\u001b[0m table \u001b[39m=\u001b[39m hash_klass(size_hint \u001b[39mor\u001b[39;00m \u001b[39mlen\u001b[39m(values))\n\u001b[0;32m--> 574\u001b[0m uniques, codes \u001b[39m=\u001b[39m table\u001b[39m.\u001b[39;49mfactorize(\n\u001b[1;32m    575\u001b[0m     values,\n\u001b[1;32m    576\u001b[0m     na_sentinel\u001b[39m=\u001b[39;49mna_sentinel,\n\u001b[1;32m    577\u001b[0m     na_value\u001b[39m=\u001b[39;49mna_value,\n\u001b[1;32m    578\u001b[0m     mask\u001b[39m=\u001b[39;49mmask,\n\u001b[1;32m    579\u001b[0m     ignore_na\u001b[39m=\u001b[39;49mignore_na,\n\u001b[1;32m    580\u001b[0m )\n\u001b[1;32m    582\u001b[0m \u001b[39m# re-cast e.g. i8->dt64/td64, uint8->bool\u001b[39;00m\n\u001b[1;32m    583\u001b[0m uniques \u001b[39m=\u001b[39m _reconstruct_data(uniques, original\u001b[39m.\u001b[39mdtype, original)\n",
      "File \u001b[0;32mpandas/_libs/hashtable_class_helper.pxi:5943\u001b[0m, in \u001b[0;36mpandas._libs.hashtable.PyObjectHashTable.factorize\u001b[0;34m()\u001b[0m\n",
      "File \u001b[0;32mpandas/_libs/hashtable_class_helper.pxi:5857\u001b[0m, in \u001b[0;36mpandas._libs.hashtable.PyObjectHashTable._unique\u001b[0;34m()\u001b[0m\n",
      "\u001b[0;31mTypeError\u001b[0m: unhashable type: 'dict'"
     ]
    }
   ],
   "source": [
    "ffs.value_counts()\n",
    "\n"
   ]
  },
  {
   "cell_type": "code",
   "execution_count": null,
   "metadata": {},
   "outputs": [],
   "source": []
  },
  {
   "cell_type": "code",
   "execution_count": null,
   "metadata": {},
   "outputs": [],
   "source": []
  }
 ],
 "metadata": {
  "kernelspec": {
   "display_name": "myenv",
   "language": "python",
   "name": "python3"
  },
  "language_info": {
   "codemirror_mode": {
    "name": "ipython",
    "version": 3
   },
   "file_extension": ".py",
   "mimetype": "text/x-python",
   "name": "python",
   "nbconvert_exporter": "python",
   "pygments_lexer": "ipython3",
   "version": "3.9.15"
  },
  "orig_nbformat": 4
 },
 "nbformat": 4,
 "nbformat_minor": 2
}
